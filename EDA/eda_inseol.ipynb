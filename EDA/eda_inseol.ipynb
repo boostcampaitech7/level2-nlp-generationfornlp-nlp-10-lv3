{
 "cells": [
  {
   "cell_type": "markdown",
   "metadata": {},
   "source": [
    "# 데이터 형식 잘 볼 수 있게 만들기"
   ]
  },
  {
   "cell_type": "code",
   "execution_count": 49,
   "metadata": {},
   "outputs": [
    {
     "name": "stdout",
     "output_type": "stream",
     "text": [
      "Data saved successfully!\n"
     ]
    }
   ],
   "source": [
    "# Load the train dataset\n",
    "# TODO Train Data 경로 입력\n",
    "\n",
    "import pandas as pd\n",
    "from ast import literal_eval\n",
    "\n",
    "\n",
    "DATAPATH = '../../../data/v0/train.csv'\n",
    "OUTPUTPATH = \"../../../data/v0/check_train.txt\"\n",
    "\n",
    "dataset = pd.read_csv(DATAPATH) \n",
    "\n",
    "# Flatten the JSON dataset\n",
    "records = []\n",
    "for _, row in dataset.iterrows():\n",
    "    problems = literal_eval(row['problems'])\n",
    "    record = {\n",
    "        'id': row['id'],\n",
    "        'paragraph': row['paragraph'],\n",
    "        'question': problems['question'],\n",
    "        'choices': problems['choices'],\n",
    "        'answer': problems.get('answer', None),\n",
    "        \"question_plus\": problems.get('question_plus', None),\n",
    "    }\n",
    "    # Include 'question_plus' if it exists\n",
    "    if 'question_plus' in problems:\n",
    "        record['question_plus'] = problems['question_plus']\n",
    "    records.append(record)\n",
    "        \n",
    "# Convert to DataFrame\n",
    "df = pd.DataFrame(records)\n",
    "\n",
    "\n",
    "with open(OUTPUTPATH, \"w\", encoding='utf-8') as f:\n",
    "    for idx, row in df.iterrows():\n",
    "        # paragraph를 '.' 기준으로 문장 나누기\n",
    "        sentences = row['paragraph'].split('.')\n",
    "        \n",
    "        # 각 문장에 '\\n' 추가\n",
    "        wrapped_paragraph = '\\n'.join([sentence.strip() + '.' for sentence in sentences if sentence.strip()])\n",
    "        \n",
    "        # choices를 한 줄씩 작성\n",
    "        formatted_choices = '\\n'.join([f\"- {choice}\" for choice in row['choices']])\n",
    "        \n",
    "        # 형식 지정\n",
    "        formatted_row = (\n",
    "            f\"**ID** : {row['id']}\\n\"\n",
    "            f\"**지문**: \\n{wrapped_paragraph}\\n\"\n",
    "            f\"**문제**: {row['question']}\\n\"\n",
    "            f\"**선지**: \\n{formatted_choices}\\n\"\n",
    "            f\"**정답**: {row['answer']}\\n\\n\"\n",
    "        )\n",
    "\n",
    "        # 파일에 쓰기\n",
    "        f.write(formatted_row)\n",
    "\n",
    "print(\"Data saved successfully!\")"
   ]
  },
  {
   "cell_type": "markdown",
   "metadata": {},
   "source": [
    "# EDA 시작!!\n",
    "- 중복 데이터 확인 및 제거\n",
    "- url 혹은 이상한 문자 확인 \n",
    "- 지문, 질문, 선지 길이 확인\n",
    "- 선지 분포 확인\n"
   ]
  },
  {
   "cell_type": "markdown",
   "metadata": {},
   "source": [
    "### 중복 데이터 확인 및 제거\n",
    "- 각 칼럼에 대해서 확인 \n",
    "- 중복 데이터는 지문 혹은 질문만이 아니라 (지문, 질문) 쌍으로 확인"
   ]
  },
  {
   "cell_type": "code",
   "execution_count": 50,
   "metadata": {},
   "outputs": [
    {
     "name": "stdout",
     "output_type": "stream",
     "text": [
      "id : 0\n",
      "paragraph : 160\n",
      "question : 46\n",
      "choices : 9\n",
      "answer : 2026\n",
      "question_plus : 2030\n"
     ]
    }
   ],
   "source": [
    "for col in df.columns :\n",
    "    print(f\"{col} : {df.duplicated([col]).sum()}\")"
   ]
  },
  {
   "cell_type": "code",
   "execution_count": 51,
   "metadata": {},
   "outputs": [
    {
     "data": {
      "text/plain": [
       "[['원주민들을 기독교로 개종', '부의 축적', '개인적 영광', '새 친구 찾기'],\n",
       " ['균형 물가 수준은 증가하는 반면 균형 산출량은 감소한다.',\n",
       "  '균형 물가 수준은 감소하는 반면 균형 산출량은 증가한다.',\n",
       "  '균형 물가 수준과 산출량이 증가한다.',\n",
       "  '균형 물가 수준과 산출량이 감소한다.'],\n",
       " ['경기적 실업', '구조적 실업', '계절적 실업', '마찰적 실업'],\n",
       " ['고정관념', '기본적 귀인 오류', '단순노출효과', '호혜성 규범'],\n",
       " ['25세', '29세', '30세', '35세', '40세'],\n",
       " ['1%', '2%', '3%', '4%', '5%'],\n",
       " ['2015년', '2016년', '2017년', '2018년', '2019년'],\n",
       " ['2016년', '2017년', '2018년', '2019년', '2020년'],\n",
       " ['노무현 정부', '이명박 정부', '박근혜 정부', '문재인 정부', '윤석열 정부']]"
      ]
     },
     "execution_count": 51,
     "metadata": {},
     "output_type": "execute_result"
    }
   ],
   "source": [
    "# choices의 중복 값을 확인한 결과 중복 아닌 것으로 판단됨.\n",
    "col = 'choices'\n",
    "df[df.duplicated([col])][col].tolist()"
   ]
  },
  {
   "cell_type": "code",
   "execution_count": 52,
   "metadata": {},
   "outputs": [],
   "source": [
    "# 지문 동일하다는거 직접 눈으로 판단\n",
    "# duplicated_paragraph_set = set(df[df.duplicated('paragraph')]['paragraph'].tolist())\n",
    "# with open(\"../../../data/v0/check_duplicate.txt\", \"w\") as f:\n",
    "#     for paragraph in duplicated_paragraph_set :\n",
    "#         f.write(\"\\n\\n##########################\\n\")\n",
    "#         same_paragraph_df = df[df['paragraph'] == paragraph] \n",
    "#         for idx, row in same_paragraph_df.iterrows() :\n",
    "#             sentences = row['paragraph'].split('.')\n",
    "        \n",
    "#             # 각 문장에 '\\n' 추가\n",
    "#             wrapped_paragraph = '\\n'.join([sentence.strip() + '.' for sentence in sentences if sentence.strip()])\n",
    "            \n",
    "#             # choices를 한 줄씩 작성\n",
    "#             formatted_choices = \", \".join(row['choices'])\n",
    "            \n",
    "#             # 형식 지정\n",
    "#             formatted_row = (\n",
    "#                 f\"**ID** : {row['id']}\\n\"\n",
    "#                 f\"**지문**: \\n{wrapped_paragraph}\\n\"\n",
    "#                 f\"**문제**: {row['question']}\\n\"\n",
    "#                 f\"**선지**: \\n{formatted_choices}\\n\"\n",
    "#                 f\"**정답**: {row['answer']}\\n\\n\"\n",
    "#             )\n",
    "#             f.write(formatted_row)"
   ]
  },
  {
   "cell_type": "code",
   "execution_count": 53,
   "metadata": {},
   "outputs": [
    {
     "name": "stdout",
     "output_type": "stream",
     "text": [
      "동일한 지문 개수: 122\n",
      "질문까지 동일한 지문 수: 5\n",
      "['generation-for-nlp-449', 'generation-for-nlp-507']\n",
      "['generation-for-nlp-426', 'generation-for-nlp-436']\n",
      "['generation-for-nlp-819', 'generation-for-nlp-884']\n",
      "['generation-for-nlp-461', 'generation-for-nlp-482']\n",
      "['generation-for-nlp-463', 'generation-for-nlp-498']\n"
     ]
    }
   ],
   "source": [
    "duplicated_paragraph_set = set(df[df.duplicated('paragraph')]['paragraph'].tolist())\n",
    "print(f\"동일한 지문 개수: {len(duplicated_paragraph_set)}\")\n",
    "\n",
    "with open(\"../../../data/v0/real_check_duplicate.txt\", \"w\") as f:\n",
    "    duplicated_list = []\n",
    "    for paragraph in duplicated_paragraph_set :\n",
    "        same_paragraph_df = df[df['paragraph'] == paragraph]\n",
    "        questions_set = set(df[df['paragraph'] == paragraph]['question'].tolist())\n",
    "            \n",
    "        if len(questions_set) != len(same_paragraph_df):\n",
    "            f.write(\"##############Same Question Dataset!!##########################\\n\")\n",
    "            for idx, row in same_paragraph_df.iterrows():\n",
    "                f.write(row['id'])\n",
    "                f.write(\"\\n\")\n",
    "                f.write(str(row['paragraph']))\n",
    "                f.write(\"\\n\")\n",
    "                f.write(row['question'])\n",
    "                f.write(\"\\n\")\n",
    "                f.write(\", \".join(row['choices']))\n",
    "                f.write(\"\\n\")\n",
    "                f.write(str(row['answer']))\n",
    "                f.write(\"\\n\\n\")\n",
    "            duplicated_list.append(same_paragraph_df['id'].tolist())\n",
    "\n",
    "print(f\"질문까지 동일한 지문 수: {len(duplicated_list)}\")\n",
    "for i in duplicated_list :\n",
    "    print(i)\n",
    "# 제거할 id : []"
   ]
  },
  {
   "cell_type": "code",
   "execution_count": 54,
   "metadata": {},
   "outputs": [
    {
     "name": "stdout",
     "output_type": "stream",
     "text": [
      "잘못된 선지 데이터 개수 : 11\n",
      "삭제 전 데이터 수 : 2031\n",
      "삭제 후 데이터 수 : 2020\n"
     ]
    }
   ],
   "source": [
    "# 잘못된 선지 제거 : 5개 \n",
    "wrong_choices_ids = ['generation-for-nlp-498',\n",
    "                     'generation-for-nlp-482',\n",
    "                     'generation-for-nlp-507',\n",
    "                     'generation-for-nlp-426',\n",
    "                     'generation-for-nlp-884',\n",
    "                     # 추가로 참고한 것들 https://stages.ai/en/competitions/330/board/community/post/2883  \n",
    "                     'generation-for-nlp-434',\n",
    "                     'generation-for-nlp-466',\n",
    "                     'generation-for-nlp-480',\n",
    "                     'generation-for-nlp-495',\n",
    "                     'generation-for-nlp-509',\n",
    "                     'generation-for-nlp-512'\n",
    "                     ]\n",
    "\n",
    "print(f\"잘못된 선지 데이터 개수 : {len(wrong_choices_ids)}\")\n",
    "print(f\"삭제 전 데이터 수 : {len(df)}\")\n",
    "df = df[~df['id'].isin(wrong_choices_ids)].reset_index(drop=True)\n",
    "print(f\"삭제 후 데이터 수 : {len(df)}\")"
   ]
  },
  {
   "cell_type": "markdown",
   "metadata": {},
   "source": [
    "### url 및 이메일\n",
    "- 기사 데이터도 있는데, 작성한 기자의 이메일 정보가 있어 조금이라도 context length 길이 줄여주고자 있는지 확인함"
   ]
  },
  {
   "cell_type": "code",
   "execution_count": 55,
   "metadata": {},
   "outputs": [
    {
     "name": "stdout",
     "output_type": "stream",
     "text": [
      "이메일 있는 지문 개수: 27\n"
     ]
    },
    {
     "data": {
      "text/plain": [
       "['generation-for-nlp-1478',\n",
       " 'generation-for-nlp-1768',\n",
       " 'generation-for-nlp-1778',\n",
       " 'generation-for-nlp-1817',\n",
       " 'generation-for-nlp-1841',\n",
       " 'generation-for-nlp-1852',\n",
       " 'generation-for-nlp-1873',\n",
       " 'generation-for-nlp-1908',\n",
       " 'generation-for-nlp-1930',\n",
       " 'generation-for-nlp-1987',\n",
       " 'generation-for-nlp-2114',\n",
       " 'generation-for-nlp-2152',\n",
       " 'generation-for-nlp-2217',\n",
       " 'generation-for-nlp-2225',\n",
       " 'generation-for-nlp-2267',\n",
       " 'generation-for-nlp-2297',\n",
       " 'generation-for-nlp-2467',\n",
       " 'generation-for-nlp-2468',\n",
       " 'generation-for-nlp-2517',\n",
       " 'generation-for-nlp-2575',\n",
       " 'generation-for-nlp-2580',\n",
       " 'generation-for-nlp-2583',\n",
       " 'generation-for-nlp-2618',\n",
       " 'generation-for-nlp-2690',\n",
       " 'generation-for-nlp-2746',\n",
       " 'generation-for-nlp-2852',\n",
       " 'generation-for-nlp-2853']"
      ]
     },
     "execution_count": 55,
     "metadata": {},
     "output_type": "execute_result"
    }
   ],
   "source": [
    "import re\n",
    "\n",
    "# 이메일 추출을 위한 정규식\n",
    "email_pattern = r'[a-zA-Z0-9._%+-]+@[a-zA-Z0-9.-]+\\.[a-zA-Z]{2,}'\n",
    "\n",
    "email_ids = []\n",
    "for idx, row in df.iterrows() :\n",
    "    emails = re.findall(email_pattern, row['paragraph'])\n",
    "    if len(emails) > 0 :\n",
    "        email_ids.append(row['id'])\n",
    "\n",
    "print(f\"이메일 있는 지문 개수: {len(email_ids)}\")\n",
    "email_ids"
   ]
  },
  {
   "cell_type": "code",
   "execution_count": 56,
   "metadata": {},
   "outputs": [
    {
     "name": "stdout",
     "output_type": "stream",
     "text": [
      "서울 대부분 지역에서 재개발·재건축 등 주택정비사업이 지지부진한 데 반해 마포구 일대는 다른 모습이다\n",
      " 교통여건이 양호하고 한강조망권을 갖춘 지역이 많다는 게 장점으로 부각되면서 올 들어서만 7곳에서 3685가구의 아파트를 분양했거나 공급을 앞두고 있다\n",
      " 오는 19일부터 분양에 나서는 서울 합정동 ‘마포 한강 2차 푸르지오’도 한강조망권을 내세우는 대표적 재개발단지다\n",
      " 대우건설이 지상 36층(2개동)으로 짓는 고층 주상복합(198가구)이다\n",
      " 문장혁 분양소장은 “서울시가 지난해 한강변 건물 높이를 제한하는 ‘한강변 관리방향’을 발표하면서 30층 이상 고층 단지의 희소성이 한결 높아졌다”고 설명했다\n",
      " 공급 가구의 67%인 132가구가 중소형(전용 83㎡)으로 설계됐다\n",
      "이번 단지는 지난 3월 분양을 마친 ‘마포 한강 1차 푸르지오’ 바로 옆에 두 번째로 공급되는 아파트다\n",
      " 지상 3층에는 입주자 전용 옥상정원이 마련된다\n",
      " 1차 단지와 일체성을 위해 저층부 상가에서 다리를 통해 연결시켰다\n",
      " 한강시민공원은 걸어서 다닐 수 있다\n",
      " 선유도공원 월드컵공원 등 주변의 생활편의시설 이용도 수월하다\n",
      " 분양가는 3\n",
      "3㎡당 1900만원대로 인근 마포지역 단지들과 비슷한 수준이다\n",
      " 발코니 확장은 물론 시스템 에어컨, 냉장고 등을 무상 제공하기 때문에 실분양가는 3\n",
      "3㎡당 1800만원대 중반이란 게 회사 측 설명이다\n",
      " 9층 이하 전용 83㎡형은 6억원, 110㎡형 14층 이하는 9억원 이하로 책정될 예정이다\n",
      " 연말 이전에 계약하면 양도세 등을 면제받을 수 있다\n",
      " 전용 83㎡형의 거실은 2개면이 외부와 맞닿아 있어서 채광과 한강조망이 특히 좋은 편이다\n",
      " 또 건물 앞쪽에 방이 3개 배치되는 ‘3베이(거실-방-방)’로 설계됐다\n",
      " 110㎡형은 맞통풍이 가능한 4베이(방-방-거실-방) 판상형 구조로 꾸며졌다\n",
      " 발코니에는 추가로 다용도공간(알파룸공간)도 마련된다\n",
      " 서울지하철 2·6호선 합정역이 단지 내 지하로 연결될 예정이어서 대중교통 여건이 좋은 편이다\n",
      " 단지 앞쪽으로는 양화대교 북단과 직접 연결된다\n",
      " 강변북로, 내부순환도로, 서부간선도로도 인접해 있다\n",
      " 합정재개발구역(합정재정비촉진지구)의 1구역(메세나폴리스)과 3구역(마포 한강 1차 푸르지오) 등에는 고급 주상복합단지가 들어서면서 집값 형성에도 도움이 되고 있다\n",
      " 오는 19일 특별공급을 시작으로 20일 1·2순위 청약을 받는다\n",
      " 모델하우스는 15일에 개장한다\n",
      " 김동현/김하나 한경닷컴 기자 3code@hankyung\n",
      "com\n"
     ]
    }
   ],
   "source": [
    "# 실제 이메일이 있나 확인\n",
    "import random\n",
    "\n",
    "random_idx = random.randint(0, len(email_ids)-1)\n",
    "\n",
    "paragraph = df[df['id'] == email_ids[random_idx]]['paragraph'].values[0].split(\".\")\n",
    "for p in paragraph :\n",
    "    print(p)\n"
   ]
  },
  {
   "cell_type": "code",
   "execution_count": 57,
   "metadata": {},
   "outputs": [
    {
     "name": "stdout",
     "output_type": "stream",
     "text": [
      "이메일 삭제한 지문 수 : 27\n"
     ]
    }
   ],
   "source": [
    "# 이메일 제거\n",
    "\n",
    "email_pattern = r'[a-zA-Z0-9._%+-]+@[a-zA-Z0-9.-]+\\.[a-zA-Z]{2,}'\n",
    "\n",
    "delete_email_num = 0\n",
    "for idx in range(len(df)) :\n",
    "    if len(re.findall(email_pattern, df.loc[idx, 'paragraph'])) > 0 :\n",
    "        df.loc[idx, 'paragraph'] = re.sub(email_pattern, \"\", df.loc[idx, 'paragraph'])    \n",
    "        delete_email_num += 1\n",
    "\n",
    "print(f\"이메일 삭제한 지문 수 : {delete_email_num}\")"
   ]
  },
  {
   "cell_type": "code",
   "execution_count": 58,
   "metadata": {},
   "outputs": [
    {
     "name": "stdout",
     "output_type": "stream",
     "text": [
      "url 있다고 판단하는 지문 개수 : 23\n"
     ]
    },
    {
     "data": {
      "text/plain": [
       "['generation-for-nlp-1481',\n",
       " 'generation-for-nlp-1483',\n",
       " 'generation-for-nlp-1489',\n",
       " 'generation-for-nlp-1505',\n",
       " 'generation-for-nlp-1535',\n",
       " 'generation-for-nlp-1619',\n",
       " 'generation-for-nlp-1625',\n",
       " 'generation-for-nlp-1677',\n",
       " 'generation-for-nlp-1706',\n",
       " 'generation-for-nlp-1835',\n",
       " 'generation-for-nlp-1841',\n",
       " 'generation-for-nlp-1890',\n",
       " 'generation-for-nlp-1919',\n",
       " 'generation-for-nlp-2005',\n",
       " 'generation-for-nlp-2143',\n",
       " 'generation-for-nlp-2447',\n",
       " 'generation-for-nlp-2592',\n",
       " 'generation-for-nlp-2607',\n",
       " 'generation-for-nlp-2642',\n",
       " 'generation-for-nlp-2665',\n",
       " 'generation-for-nlp-2684',\n",
       " 'generation-for-nlp-2735',\n",
       " 'generation-for-nlp-2779']"
      ]
     },
     "execution_count": 58,
     "metadata": {},
     "output_type": "execute_result"
    }
   ],
   "source": [
    "# url 패턴 추출\n",
    "\n",
    "url_pattern = r'\\b(?:https?|ftp|file|mailto|data|ws|wss|tel|sms|ssh|sftp):\\/\\/[^\\s]+|\\bwww\\.[^\\s]+|[^\\s]+\\.[a-z]{2,}'\n",
    "url_ids = []\n",
    "for idx, row in df.iterrows() :\n",
    "    url = re.findall(url_pattern, row['paragraph'])\n",
    "    if len(url) > 0 :\n",
    "        url_ids.append(row['id'])\n",
    "\n",
    "\n",
    "print(f\"url 있다고 판단하는 지문 개수 : {len(url_ids)}\")\n",
    "url_ids"
   ]
  },
  {
   "cell_type": "code",
   "execution_count": 59,
   "metadata": {},
   "outputs": [
    {
     "name": "stdout",
     "output_type": "stream",
     "text": [
      "generation-for-nlp-2779\n",
      "서울시 산하 SH공사는 오는 18일부터 장기전세주택(시프트) 455가구를\n",
      "터 장기전세주택(시프트) 455가구를 공급한다고 7일 발표했다.공급주택은\n",
      " 공급한다고 7일 발표했다.공급주택은 시프트 전용 아파트인 양재동 양재1\n",
      " 시프트 전용 아파트인 양재동 양재1단지(231가구)와 우면동 서초네이처\n",
      "단지(231가구)와 우면동 서초네이처힐1단지(44가구) 등 건설형 시프트\n",
      "힐1단지(44가구) 등 건설형 시프트 275가구, 래미안 도곡 진달래(1\n",
      " 275가구, 래미안 도곡 진달래(14가구), 강서 한강 자이(81가구)\n",
      "4가구), 강서 한강 자이(81가구) 등 매입형 시프트 95가구다. 또 \n",
      " 등 매입형 시프트 95가구다. 또 기존 공급단지 중 입주자 퇴거와 계약\n",
      "기존 공급단지 중 입주자 퇴거와 계약 취소 등으로 발생한 빈집 85가구(\n",
      " 취소 등으로 발생한 빈집 85가구(32개 단지)도 포함됐다.시프트는 인\n",
      "32개 단지)도 포함됐다.시프트는 인근 아파트 전세 시세의 75~80% \n",
      "근 아파트 전세 시세의 75~80% 수준으로 최장 20년(2년마다 재계약\n",
      "수준으로 최장 20년(2년마다 재계약)까지 거주할 수 있다. 시프트 공급\n",
      ")까지 거주할 수 있다. 시프트 공급 가격은 건설 및 매입 등 신규 물량\n",
      " 가격은 건설 및 매입 등 신규 물량이 1억5600만원(강서 한강 자이 \n",
      "이 1억5600만원(강서 한강 자이 59㎡)부터 3억6400만원(래미안 \n",
      "59㎡)부터 3억6400만원(래미안 도곡 진달래 59㎡)까지다. 계획 취\n",
      "도곡 진달래 59㎡)까지다. 계획 취소 등으로 인한 빈집은 8020만원(\n",
      "소 등으로 인한 빈집은 8020만원(왕십리 모노퍼스 38㎡)부터 3억75\n",
      "왕십리 모노퍼스 38㎡)부터 3억7500만원(래미안 퍼스티지 59㎡)까지\n",
      "00만원(래미안 퍼스티지 59㎡)까지다.입주자 모집공고일 현재 서울시에 \n",
      "다.입주자 모집공고일 현재 서울시에 거주하며 본인과 가구원 전원이 무주택\n",
      "거주하며 본인과 가구원 전원이 무주택자인 청약저축(예금) 가입 가구주가 \n",
      "자인 청약저축(예금) 가입 가구주가 대상이다. 접수는 일반공급 1순위자·\n",
      "대상이다. 접수는 일반공급 1순위자·우선공급·65세 이상이 18~20일,\n",
      "우선공급·65세 이상이 18~20일, 2순위자·60세 이상~65세 미만이\n",
      " 2순위자·60세 이상~65세 미만이 21일, 3순위자가 22일이다. 청\n",
      " 21일, 3순위자가 22일이다. 청약 신청은 SH공사 홈페이지(www.\n",
      "약 신청은 SH공사 홈페이지(www.shift.or.kr)로 하면 된다.\n",
      "shift.or.kr)로 하면 된다. 서류심사 대상자 발표는 오는 28일\n",
      " 서류심사 대상자 발표는 오는 28일, 당첨자 발표일은 4월30일이며 S\n",
      ", 당첨자 발표일은 4월30일이며 SH공사 홈페이지에서 확인할 수 있다.\n",
      "H공사 홈페이지에서 확인할 수 있다.\n"
     ]
    }
   ],
   "source": [
    "# 실제 url 있나 확인\n",
    "import random\n",
    "\n",
    "random_idx = random.randint(0, len(url_ids)-1)\n",
    "\n",
    "print(url_ids[random_idx])\n",
    "paragraph = df[df['id'] == url_ids[random_idx]]['paragraph'].values[0]\n",
    "for i in range(0, len(paragraph), 20):\n",
    "    print(paragraph[i:i+40])\n",
    "\n",
    "# generation-for-nlp-1625"
   ]
  },
  {
   "cell_type": "code",
   "execution_count": 60,
   "metadata": {},
   "outputs": [
    {
     "name": "stdout",
     "output_type": "stream",
     "text": [
      "url 삭제한 지문 수 : 23\n"
     ]
    }
   ],
   "source": [
    "# url 제거\n",
    "\n",
    "url_pattern = r'\\b(?:https?|ftp|file|mailto|data|ws|wss|tel|sms|ssh|sftp):\\/\\/[^\\s]+|\\bwww\\.[^\\s]+|[^\\s]+\\.[a-z]{2,}'\n",
    "\n",
    "delete_email_num = 0\n",
    "for idx in range(len(df)) :\n",
    "    if len(re.findall(url_pattern, df.loc[idx, 'paragraph'])) > 0 :\n",
    "        df.loc[idx, 'paragraph'] = re.sub(url_pattern, \"\", df.loc[idx, 'paragraph'])    \n",
    "        delete_email_num += 1\n",
    "\n",
    "print(f\"url 삭제한 지문 수 : {delete_email_num}\")"
   ]
  },
  {
   "cell_type": "code",
   "execution_count": 61,
   "metadata": {},
   "outputs": [
    {
     "name": "stdout",
     "output_type": "stream",
     "text": [
      "추출된 전화번호:\n",
      "['010-1234-5678', '010 5678 1234', '010.1234.5678', '02-123-4567', '032 1234 5678', '031)123-4567', '82 10-1234-5678', '82 (2)123-4567', '82-10-1234-5678', '02-1234-5678', '031-123-4567#123', '01012345678', '021234567']\n"
     ]
    }
   ],
   "source": [
    "# 전화번호 추출 예시\n",
    "\n",
    "import re\n",
    "\n",
    "# 전화번호 정규식\n",
    "phone_pattern = r'\\b(?:\\+?\\d{1,3})?[-.\\s]?(?:\\(?\\d{1,3}\\)?)?[-.\\s]?\\d{3,4}[-.\\s]?\\d{4}(?:#?\\d{1,5})?\\b'\n",
    "\n",
    "# 테스트 데이터\n",
    "text = \"\"\"\n",
    "1. 휴대전화: 010-1234-5678, 010 5678 1234, 010.1234.5678\n",
    "2. 지역번호: 02-123-4567, 032 1234 5678, (031)123-4567\n",
    "3. 국제전화: +82 10-1234-5678, +82 (2)123-4567, 82-10-1234-5678\n",
    "4. 내선 번호: 02-1234-5678 ext.1234, 031-123-4567#123\n",
    "5. 연속된 번호: 01012345678, 021234567\n",
    "\"\"\"\n",
    "\n",
    "# 정규식으로 전화번호 추출\n",
    "phone_numbers = re.findall(phone_pattern, text)\n",
    "\n",
    "# 결과 출력\n",
    "print(\"추출된 전화번호:\")\n",
    "print(phone_numbers)\n"
   ]
  },
  {
   "cell_type": "code",
   "execution_count": 62,
   "metadata": {},
   "outputs": [
    {
     "name": "stdout",
     "output_type": "stream",
     "text": [
      "폰번호 있다고 판단하는 지문 개수 : 9\n"
     ]
    },
    {
     "data": {
      "text/plain": [
       "['generation-for-nlp-1501',\n",
       " 'generation-for-nlp-1507',\n",
       " 'generation-for-nlp-1610',\n",
       " 'generation-for-nlp-1660',\n",
       " 'generation-for-nlp-1841',\n",
       " 'generation-for-nlp-1843',\n",
       " 'generation-for-nlp-2468',\n",
       " 'generation-for-nlp-2592',\n",
       " 'generation-for-nlp-2614']"
      ]
     },
     "execution_count": 62,
     "metadata": {},
     "output_type": "execute_result"
    }
   ],
   "source": [
    "# 전화번호 패턴 추출\n",
    "\n",
    "phone_pattern = r'\\b(?:\\+?\\d{1,3})?[-.\\s]?(?:\\(?\\d{1,3}\\)?)?[-.\\s]?\\d{3,4}[-.\\s]?\\d{4}(?:#?\\d{1,5})?\\b'\n",
    "\n",
    "phone_ids = []\n",
    "for idx, row in df.iterrows() :\n",
    "    phone = re.findall(phone_pattern, row['paragraph'])\n",
    "    if len(phone) > 0 :\n",
    "        phone_ids.append(row['id'])\n",
    "\n",
    "\n",
    "print(f\"폰번호 있다고 판단하는 지문 개수 : {len(phone_ids)}\")\n",
    "phone_ids"
   ]
  },
  {
   "cell_type": "code",
   "execution_count": 63,
   "metadata": {},
   "outputs": [
    {
     "name": "stdout",
     "output_type": "stream",
     "text": [
      "generation-for-nlp-2614\n",
      "○서울 강남역 중심가 수익형 빌딩=환승역 출구 앞 대지 305㎡, 연면적\n",
      " 1000㎡의 엘리베이터 갖춘 7층 건물. 유동인구 풍부한 상권으로 보증\n",
      "금 5억원, 월 2860만원에 공실 없이 임대 중. 시세 이하 감정가(5\n",
      "6억원) 수준 급매물. 57억원. (02)534-8878 서초 스카이중개\n",
      " 이기종○서울 강남 역세권 수익형 빌딩=대지 252㎡, 연면적 600㎡의\n",
      " 5층 근린생활시설 건물. 임차수요 풍부한 번화가로 보증금 3억4000만\n",
      "원, 월 1350만원에 공실 없이 임대 중. 노후 대비 수익용으로 적합.\n",
      " 사정상 급매. 31억원. (02)535-6709 서초 스카이중개 이기종\n",
      "○경기 평택시 소사벌지구 신축 원룸=법원 인근 대지 258㎡, 연면적 4\n",
      "56㎡의 4층 건물. 주인가구 있음. 임대 완료. 융자 4억2000만원,\n",
      " 보증금 3억1200만원, 실투자 3억4800만원(조절 가능), 월 43\n",
      "7만원. 삼성반도체KTX 지제역 수혜 지역. 10억8000만원. 010-\n",
      "2911-5800 평택 한강공인 장호동○경기 용인시 동천동 이동통신 대리\n",
      "점 상가=1만2000가구 아파트 대로변 사거리 코너 중심상가 1층 점포 \n",
      "88㎡. 보증금 5000만원, 월 280만원에 장기 임대 중. 융자 2억\n",
      "2000만원, 실투자 3억원, 수익률 9.1%. 안정적인 월세 수입 가능\n",
      ". 5억7000만원. 010-5305-9797 용인 동문114 이창수○강\n",
      "원 춘천시 남산면 전원주택지=설악IC에서 차로 15분 거리 밤벌유원지 내\n",
      " 계획관리지역 토지 2644㎡. 홍천강변 조망이 우수한 부지로 대명리조트\n",
      ", 팔봉산 인근. 3.3㎡당 35만원에 급매. (02)546-1259 강\n",
      "남 유앤아이중개 박선아○충남 아산시 용화지구 신축 상가주택=대지 241㎡\n",
      ", 연면적 413㎡. 융자 3억9000만원, 보증금 2억5400만원, 실\n",
      "투자 1억2600만원에 월 288만원(이제 공제 후 151만원). 현대차\n",
      " 등 인접해 임차수요 풍부. 7억7000만원. 010-3378-9600 \n",
      "아산 골드공인 김은희○경기 하남 미사강변도시 1층 약국 상가=배후 4만가\n",
      "구 도로변 7층 상가건물의 1층 출입구 옆 점포 172㎡. 건물 내 약국\n",
      " 독점 조건으로 임대. 융자 8억원 이상. 16억원. (02)557-22\n",
      "44 강남 하나공인 이재호○경북 구미시 중심상업지역 신축 상가주택=코너 \n",
      "대지 460㎡, 연면적 793㎡. 2015년 준공. 1층 편의점(보증금 \n",
      "2000만원, 월 110만원) 포함 19가구. 보증금 3억7900만원, \n",
      "실투자 2억7100만원에 월 수입 569만원. 12억5000만원. (05\n",
      "4)471-7794 구미 한강공인 구자인○경기 광교신도시 1층 프랜차이즈\n",
      " 편의점 상가=광교역세권 오피스텔 밀집지역 10층 건물의 1층 점포 10\n",
      "4㎡. 보증금 5000만원, 월 300만원에 대기업 편의점으로 장기임대 \n",
      "영업 중. 융자 3억원, 실투자 4억원. 노후 대비 수익용 적합. 7억5\n",
      "000만원. 010-5704-7300 광교 미래공인 안진석\n"
     ]
    }
   ],
   "source": [
    "# 실제 폰번호 있나 확인\n",
    "import random\n",
    "\n",
    "random_idx = random.randint(0, len(phone_ids)-1)\n",
    "\n",
    "print(phone_ids[random_idx])\n",
    "paragraph = df[df['id'] == phone_ids[random_idx]]['paragraph'].values[0]\n",
    "for i in range(0, len(paragraph), 40):\n",
    "    print(paragraph[i:i+40])\n"
   ]
  },
  {
   "cell_type": "code",
   "execution_count": 64,
   "metadata": {},
   "outputs": [
    {
     "name": "stdout",
     "output_type": "stream",
     "text": [
      "폰번호 삭제한 지문 수 : 9\n"
     ]
    }
   ],
   "source": [
    "# 폰번호 제거\n",
    "\n",
    "phone_pattern = r'\\b(?:\\+?\\d{1,3})?[-.\\s]?(?:\\(?\\d{1,3}\\)?)?[-.\\s]?\\d{3,4}[-.\\s]?\\d{4}(?:#?\\d{1,5})?\\b'\n",
    "\n",
    "delete_email_num = 0\n",
    "for idx in range(len(df)) :\n",
    "    if len(re.findall(phone_pattern, df.loc[idx, 'paragraph'])) > 0 :\n",
    "        df.loc[idx, 'paragraph'] = re.sub(phone_pattern, \"\", df.loc[idx, 'paragraph'])    \n",
    "        delete_email_num += 1\n",
    "\n",
    "print(f\"폰번호 삭제한 지문 수 : {delete_email_num}\")"
   ]
  },
  {
   "cell_type": "code",
   "execution_count": 65,
   "metadata": {},
   "outputs": [
    {
     "name": "stdout",
     "output_type": "stream",
     "text": [
      "기자 정보 있다고 판단하는 지문 개수 : 76\n"
     ]
    },
    {
     "data": {
      "text/plain": [
       "['generation-for-nlp-1455',\n",
       " 'generation-for-nlp-1475',\n",
       " 'generation-for-nlp-1478',\n",
       " 'generation-for-nlp-1514',\n",
       " 'generation-for-nlp-1515',\n",
       " 'generation-for-nlp-1528',\n",
       " 'generation-for-nlp-1532',\n",
       " 'generation-for-nlp-1561',\n",
       " 'generation-for-nlp-1574',\n",
       " 'generation-for-nlp-1575',\n",
       " 'generation-for-nlp-1582',\n",
       " 'generation-for-nlp-1617',\n",
       " 'generation-for-nlp-1628',\n",
       " 'generation-for-nlp-1631',\n",
       " 'generation-for-nlp-1641',\n",
       " 'generation-for-nlp-1688',\n",
       " 'generation-for-nlp-1701',\n",
       " 'generation-for-nlp-1768',\n",
       " 'generation-for-nlp-1817',\n",
       " 'generation-for-nlp-1834',\n",
       " 'generation-for-nlp-1844',\n",
       " 'generation-for-nlp-1845',\n",
       " 'generation-for-nlp-1852',\n",
       " 'generation-for-nlp-1873',\n",
       " 'generation-for-nlp-1908',\n",
       " 'generation-for-nlp-1930',\n",
       " 'generation-for-nlp-1961',\n",
       " 'generation-for-nlp-1987',\n",
       " 'generation-for-nlp-2061',\n",
       " 'generation-for-nlp-2085',\n",
       " 'generation-for-nlp-2114',\n",
       " 'generation-for-nlp-2130',\n",
       " 'generation-for-nlp-2142',\n",
       " 'generation-for-nlp-2152',\n",
       " 'generation-for-nlp-2159',\n",
       " 'generation-for-nlp-2177',\n",
       " 'generation-for-nlp-2217',\n",
       " 'generation-for-nlp-2233',\n",
       " 'generation-for-nlp-2248',\n",
       " 'generation-for-nlp-2267',\n",
       " 'generation-for-nlp-2270',\n",
       " 'generation-for-nlp-2277',\n",
       " 'generation-for-nlp-2302',\n",
       " 'generation-for-nlp-2312',\n",
       " 'generation-for-nlp-2314',\n",
       " 'generation-for-nlp-2327',\n",
       " 'generation-for-nlp-2337',\n",
       " 'generation-for-nlp-2338',\n",
       " 'generation-for-nlp-2362',\n",
       " 'generation-for-nlp-2445',\n",
       " 'generation-for-nlp-2453',\n",
       " 'generation-for-nlp-2467',\n",
       " 'generation-for-nlp-2484',\n",
       " 'generation-for-nlp-2517',\n",
       " 'generation-for-nlp-2557',\n",
       " 'generation-for-nlp-2572',\n",
       " 'generation-for-nlp-2575',\n",
       " 'generation-for-nlp-2580',\n",
       " 'generation-for-nlp-2583',\n",
       " 'generation-for-nlp-2587',\n",
       " 'generation-for-nlp-2590',\n",
       " 'generation-for-nlp-2609',\n",
       " 'generation-for-nlp-2618',\n",
       " 'generation-for-nlp-2641',\n",
       " 'generation-for-nlp-2650',\n",
       " 'generation-for-nlp-2658',\n",
       " 'generation-for-nlp-2690',\n",
       " 'generation-for-nlp-2697',\n",
       " 'generation-for-nlp-2746',\n",
       " 'generation-for-nlp-2752',\n",
       " 'generation-for-nlp-2770',\n",
       " 'generation-for-nlp-2783',\n",
       " 'generation-for-nlp-2852',\n",
       " 'generation-for-nlp-2853',\n",
       " 'generation-for-nlp-2867',\n",
       " 'generation-for-nlp-2875']"
      ]
     },
     "execution_count": 65,
     "metadata": {},
     "output_type": "execute_result"
    }
   ],
   "source": [
    "# 작성자 정보 정규식 (일반 문맥의 '기자' 제외)\n",
    "author_pattern = r'\\b(?:[가-힣]{2,4}(?:\\s[가-힣]{2,4})?\\s(?:기자|특파원|=[가-힣]{2,4}\\s기자))\\b'\n",
    "\n",
    "# 지역 정보 정규식\n",
    "region_pattern = r'\\b([가-힣]{2,4})='\n",
    "\n",
    "\n",
    "author_ids = []\n",
    "for idx, row in df.iterrows() :\n",
    "    author = re.findall(author_pattern, row['paragraph'])\n",
    "    region = re.findall(region_pattern, row['paragraph'])\n",
    "    if len(author) > 0 :\n",
    "        author_ids.append(row['id'])\n",
    "\n",
    "\n",
    "print(f\"기자 정보 있다고 판단하는 지문 개수 : {len(author_ids)}\")\n",
    "author_ids        "
   ]
  },
  {
   "cell_type": "code",
   "execution_count": 66,
   "metadata": {},
   "outputs": [
    {
     "name": "stdout",
     "output_type": "stream",
     "text": [
      "generation-for-nlp-2690\n",
      "○개혁 조치 제한적 실행 가능성상하이자유무역구의 가장 큰 특징은 개방이다\n",
      ". 서비스업 분야에서 외국 기업들도 중국 기업들과 평등하게 경쟁할 수 있\n",
      "도록 규제를 대폭 완화했다. 상품과 자본의 국경도 없앴다. 상하이 당국은\n",
      " 이를 위해 적절한 외환관리시스템을 구축하겠다고 밝혔다.반관영통신사인 중\n",
      "국신문망은 이날 상하이자유무역구의 5대 특징으로 △외국인 투자에 네거티브\n",
      "리스트 방식(금지규정 이외의 것은 모두 허용) 적용 △관세 및 비관세 장\n",
      "벽 철폐 △서비스업 대외 개방 △금융개혁 △위안화 국제화 등을 들었다. \n",
      "이 통신은 “새 정부는 시장을 통한 효율적 자원 배치를 강조하고 있다”며\n",
      " “개방과 함께 국내 개혁도 더욱 가속화될 것”이라고 전했다. 자유무역구\n",
      "관리위원회는 이날 첫 업무로 자유무역구에 지점 신청을 한 공상 농업 중국\n",
      " 건설 교통 차오상 상하이 푸둥개발은행 등 8개 중국 은행과 씨티 싱가포\n",
      "르개발은행 등 2곳의 외자은행 등 모두 10개 은행에 설립증명서를 발급했\n",
      "다.전문가들은 정부가 비록 파격적인 조치들을 공포했지만 실제 구체적인 조\n",
      "치들은 제한적으로 시행될 것으로 보고 있다. 중국은 금리 자유화, 위안화\n",
      " 환전 자유 등의 금융개혁도 “리스크 통제를 전제로 한다”는 조건을 달았\n",
      "다. 또 금리가 자유화된 자유무역구와 그렇지 않은 외부 지역과의 자금흐름\n",
      "도 완전히 차단하는 방법을 강구 중이다. 당국이 상하이 자유무역지대를 분\n",
      "리된 4곳의 보세구역으로 한정한 것도 외부 파장을 최소화하겠다는 의도로 \n",
      "받아들여진다. 블룸버그통신은 “중국 정부는 자유무역구의 부작용으로 경제가\n",
      " 타격을 받지 않도록 하면서도 개혁 실험을 너무 제약해 효율성을 떨어뜨리\n",
      "지 않아야 하는 이중의 과제를 안고 있다”고 지적했다.전문가들은 상하이자\n",
      "유무역구의 영향에 대해 엇갈린 반응을 내놓고 있다. 블룸버그가 17명의 \n",
      "전문가를 대상으로 실시한 설문에서 8명은 상하이자유무역구가 앞으로 5년간\n",
      " 중국의 국내총생산(GDP)에 거의 영향을 주지 못할 것이라고 답했다. \n",
      "반면 7명은 중국의 GDP를 0.1~0.5% 끌어올리는 효과가 있을 것으\n",
      "로 추정했다. 나머지 1명은 GDP 증가율을 0.5~0.9%포인트 높일 \n",
      "것이라고 응답했다.○한국 기업들에도 기회상하이자유무역구는 한국 기업들에도\n",
      " 새로운 기회가 될 전망이다. 특히 중국 내에서 지점 설립과 업무영역에 \n",
      "제한을 받고 있는 은행과 수출입 물동량 증가로 사업 기회가 많을 것으로 \n",
      "보이는 물류 종합상사 등이 관심을 보이고 있다.은행 중에서는 하나은행이 \n",
      "가장 적극적이다. 이 은행은 자유무역구에 지점 설립을 신청키로 내부 방침\n",
      "을 정한 것으로 알려졌다. 농협 우리 국민은행 등도 세부적인 조건이 나오\n",
      "면 지점 설립을 검토하겠다는 입장이다. 그러나 중국의 한국계 은행 관계자\n",
      "는 “자유무역구 내에 설립되는 은행은 소비자금융보다는 무역결제나 파생상품\n",
      " 등으로 수익을 내야 하지만 한국계 은행들이 이를 감당하기 쉽지 않다”며\n",
      " “경쟁도 치열해 최소 3~4년은 적자를 각오해야 할 것”이라고 말했다.\n",
      "반면 상하이와 물류허브를 다투던 부산항은 적지 않은 타격을 받을 것으로 \n",
      "우려된다. 상하이자유무역구는 국제수출입 환적업무를 시행하면서 선박 등록을\n",
      " 장려하고 운영 허가를 간소화할 예정이다. 이를 통해 연간 90만TEU의\n",
      " 환적 컨테이너를 유치할 예정이다. 김명신 KOTRA 상하이무역관 차장은\n",
      " “칭다오나 다롄에서 온 화물이 상하이에서 환적이 불가능했기 때문에 그동\n",
      "안 많은 외국 운송사가 부산항을 이용했다”며 “상하이에서 환적 업무를 하\n",
      "면 부산항의 환적 화물 중 31%를 차지하는 중국 물량이 대거 빠져나갈 \n",
      "수 있다”고 분석했다. 베이징=김태완 특파원 \n"
     ]
    }
   ],
   "source": [
    "# 실제 기자 있나 확인\n",
    "import random\n",
    "\n",
    "random_idx = random.randint(0, len(author_ids)-1)\n",
    "\n",
    "print(author_ids[random_idx])\n",
    "paragraph = df[df['id'] == author_ids[random_idx]]['paragraph'].values[0]\n",
    "for i in range(0, len(paragraph), 40):\n",
    "    print(paragraph[i:i+40])\n"
   ]
  },
  {
   "cell_type": "code",
   "execution_count": 67,
   "metadata": {},
   "outputs": [
    {
     "name": "stdout",
     "output_type": "stream",
     "text": [
      "기자 삭제한 지문 수 : 76\n"
     ]
    }
   ],
   "source": [
    "# 기자 제거\n",
    "\n",
    "# 작성자 정보 정규식 (일반 문맥의 '기자' 제외)\n",
    "author_pattern = r'\\b(?:[가-힣]{2,4}(?:\\s[가-힣]{2,4})?\\s(?:기자|특파원|=[가-힣]{2,4}\\s기자))\\b'\n",
    "\n",
    "# 지역 정보 정규식\n",
    "region_pattern = r'\\b([가-힣]{2,4})='\n",
    "\n",
    "delete_email_num = 0\n",
    "for idx in range(len(df)) :\n",
    "    if len(re.findall(author_pattern, df.loc[idx, 'paragraph'])) > 0 :\n",
    "        df.loc[idx, 'paragraph'] = re.sub(author_pattern, \"\", df.loc[idx, 'paragraph'])   \n",
    "        df.loc[idx, 'paragraph'] = re.sub(region_pattern, \"\", df.loc[idx, 'paragraph']) \n",
    "        delete_email_num += 1\n",
    "\n",
    "print(f\"기자 삭제한 지문 수 : {delete_email_num}\")"
   ]
  },
  {
   "cell_type": "markdown",
   "metadata": {},
   "source": [
    "### 특수문자(Reference by 정휘)"
   ]
  },
  {
   "cell_type": "code",
   "execution_count": 68,
   "metadata": {},
   "outputs": [],
   "source": [
    "import re\n",
    "from collections import defaultdict\n",
    "\n",
    "non_chars = {}\n",
    "\n",
    "def count_non_korean_english_chars(text):\n",
    "    # 한글과 영어를 제외한 문자만 매칭하는 정규 표현식\n",
    "    non_korean_english_chars = re.findall(r\"[^가-힣a-zA-Z]\", text)\n",
    "    \n",
    "    # 각 문자에 대해 개수를 증가\n",
    "    for char in non_korean_english_chars:\n",
    "        if char not in non_chars:\n",
    "            non_chars[char] = 1\n",
    "        else:\n",
    "            non_chars[char] += 1\n",
    "\n",
    "paragraph = df['paragraph']\n",
    "for p in paragraph:\n",
    "    count_non_korean_english_chars(p)\n"
   ]
  },
  {
   "cell_type": "code",
   "execution_count": 69,
   "metadata": {},
   "outputs": [
    {
     "name": "stdout",
     "output_type": "stream",
     "text": [
      "[ , 329821]  [., 24945]  [0, 11239]  [,, 10153]  [1, 9885] \n",
      "[2, 7382]  [), 4972]  [(, 4956]  [3, 4442]  [5, 3974] \n",
      "[“, 3505]  [4, 3475]  [”, 3440]  [’, 3243]  [‘, 3226] \n",
      "[9, 2824]  [6, 2775]  [8, 2754]  [7, 2621]  [%, 2592] \n",
      "[·, 1729]  [~, 724]  [\", 551]  [㎡, 527]  [-, 398] \n",
      "[…, 391]  [○, 316]  [△, 302]  [\n",
      ", 261]  [?, 240] \n",
      "[&, 214]  [▲, 192]  [', 187]  [/, 175]  [!, 128] \n",
      "[—, 127]  [[, 126]  [], 124]  [:, 120]  [>, 104] \n",
      "[<, 96]  [ , 90]  [《, 90]  [》, 90]  [=, 65] \n",
      "[㎞, 48]  [ｍ, 38]  [－, 36]  [*, 36]  [+, 34] \n",
      "[→, 33]  [‧, 28]  [㈜, 27]  [◇, 27]  [∙, 26] \n",
      "[#, 26]  [–, 23]  [㎝, 23]  [​, 23]  [▷, 19] \n",
      "[ㆍ, 16]  [『, 16]  [』, 16]  [×, 14]  [․, 13] \n",
      "[中, 13]  [「, 12]  [」, 12]  [§, 9]  [㎢, 9] \n",
      "[安, 9]  [▶, 9]  [三, 8]  [;, 8]  [㎏, 8] \n",
      "[平, 8]  [㎎, 8]  [◆, 8]  [■, 7]  [低, 7] \n",
      "[非, 7]  [對, 6]  [習, 6]  [近, 6]  [㉠, 5] \n",
      "[前, 5]  [〮, 5]  [李, 5]  [㎥, 5]  [反, 5] \n",
      "[㎾, 5]  [_, 5]  [行, 4]  [大, 4]  [詩, 4] \n",
      "[長, 4]  [强, 4]  [倍, 4]  [晋, 4]  [事, 4] \n",
      "[Ⅱ, 4]  [④, 4]  [路, 4]  [社, 4]  [正, 3] \n",
      "[ㄷ, 3]  [水, 3]  [㉡, 3]  [古, 3]  [ü, 3] \n",
      "[$, 3]  [￡, 3]  [勢, 3]  [市, 3]  [克, 3] \n",
      "[α, 3]  [™, 3]  [•, 3]  [公, 3]  [ㅋ, 3] \n",
      "[故, 3]  [②, 3]  [車, 3]  [親, 3]  [胡, 3] \n",
      "[ㄱ, 2]  [韓, 2]  [德, 2]  [業, 2]  [口, 2] \n",
      "[民, 2]  [策, 2]  [陽, 2]  [城, 2]  [九, 2] \n",
      "[在, 2]  [心, 2]  [人, 2]  [©, 2]  [稅, 2] \n",
      "[制, 2]  [逆, 2]  [脫, 2]  [％, 2]  [奇, 2] \n",
      "[全, 2]  [虛, 2]  [實, 2]  [政, 2]  [不, 2] \n",
      "[銀, 2]  [聯, 2]  [令, 2]  [馬, 2]  [北, 2] \n",
      "[雲, 2]  [, 2]  [㎿, 2]  [空, 2]  [±, 2] \n",
      "[能, 2]  [㎜, 2]  [＃, 2]  [太, 2]  [里, 2] \n",
      "[@, 2]  [婚, 2]  [州, 2]  [美, 2]  [難, 2] \n",
      "[漢, 2]  [風, 2]  [小, 2]  [㎸, 2]  [軍, 2] \n",
      "[氣, 2]  [發, 2]  [通, 2]  [錦, 2]  [濤, 2] \n",
      "[●, 2]  [ｇ, 2]  [動, 2]  [如, 2]  [唐, 2] \n",
      "[猫, 2]  [喪, 1]  [服, 1]  [體, 1]  [傳, 1] \n",
      "[重, 1]  [ㄴ, 1]  [ㄹ, 1]  [皂, 1]  [隷, 1] \n",
      "[御, 1]  [製, 1]  [問, 1]  [田, 1]  [丁, 1] \n",
      "[戶, 1]  [結, 1]  [殷, 1]  [曆, 1]  [記, 1] \n",
      "[勸, 1]  [戒, 1]  [才, 1]  [道, 1]  [術, 1] \n",
      "[權, 1]  [信, 1]  [相, 1]  [俊, 1]  [弘, 1] \n",
      "[佐, 1]  [丞, 1]  [王, 1]  [同, 1]  [賦, 1] \n",
      "[頌, 1]  [質, 1]  [隋, 1]  [草, 1]  [播, 1] \n",
      "[遷, 1]  [干, 1]  [首, 1]  [露, 1]  [專, 1] \n",
      "[萬, 1]  [川, 1]  [明, 1]  [月, 1]  [主, 1] \n",
      "[翁, 1]  [準, 1]  [敗, 1]  [借, 1]  [勝, 1] \n",
      "[陰, 1]  [形, 1]  [災, 1]  [惑, 1]  [鼓, 1] \n",
      "[盆, 1]  [而, 1]  [歌, 1]  [高, 1]  [毛, 1] \n",
      "[曉, 1]  [峰, 1]  [計, 1]  [劃, 1]  [林, 1] \n",
      "[･, 1]  [代, 1]  [土, 1]  [刑, 1]  [張, 1] \n",
      "[勇, 1]  [衡, 1]  [受, 1]  [忍, 1]  [英, 1] \n",
      "[京, 1]  [遺, 1]  [構, 1]  [副, 1]  [虹, 1] \n",
      "[限, 1]  [樂, 1]  [ᆞ, 1]  [網, 1]  [船, 1] \n",
      "[金, 1]  [洞, 1]  [者, 1]  [復, 1]  [旦, 1] \n",
      "[傷, 1]  [痕, 1]  [知, 1]  [園, 1]  [屈, 1] \n",
      "[伸, 1]  [室, 1]  [棟, 1]  [敵, 1]  [Ⅲ, 1] \n",
      "[春, 1]  [節, 1]  [国, 1]  [宁, 1]  [基, 1] \n",
      "[广, 1]  [场, 1]  [※, 1]  [坊, 1]  [，, 1] \n",
      "[子, 1]  [μ, 1]  [亞, 1]  [陸, 1]  [母, 1] \n",
      "[語, 1]  [最, 1]  [ℓ, 1]  [雨, 1]  [期, 1] \n",
      "[ö, 1]  [ä, 1]  [始, 1]  [祖, 1]  [日, 1] \n",
      "[聲, 1]  [紋, 1]  [Š, 1]  [é, 1]  [多, 1] \n",
      "[岐, 1]  [今, 1]  [破, 1]  [浪, 1]  [會, 1] \n",
      "[有, 1]  [時, 1]  [直, 1]  [掛, 1]  [帆, 1] \n",
      "[濟, 1]  [滄, 1]  [海, 1]  [五, 1]  [霧, 1] \n",
      "[外, 1]  [Ⅰ, 1]  [胞, 1]  [南, 1]  [®, 1] \n",
      "[磁, 1]  [西, 1]  [耳, 1]  [石, 1]  [①, 1] \n",
      "[③, 1]  [晩, 1]  [～, 1]  [＞, 1]  [港, 1] \n",
      "[遊, 1]  [客, 1]  [士, 1]  [農, 1]  [工, 1] \n",
      "[商, 1]  [報, 1]  [告, 1]  [書, 1]  [隨, 1] \n",
      "[意, 1]  [字, 1]  [賞, 1]  [­, 1]  [福, 1] \n",
      "[袋, 1]  [飛, 1]  [散, 1]  [必, 1]  [像, 1] \n",
      "[駐, 1]  [修, 1]  [辭, 1]  [新, 1]  [試, 1] \n",
      "[族, 1]  [源, 1]  [潮, 1]  [關, 1]  [＝, 1] \n",
      "[神, 1]  [元, 1]  [ø, 1]  [蔣, 1]  [經, 1] \n",
      "[國, 1]  [山, 1]  [雷, 1]  [霆, 1]  [爭, 1] \n",
      "[省, 1]  [耀, 1]  [邦, 1]  [思, 1]  [想, 1] \n",
      "[解, 1]  [放, 1]  [求, 1]  [是, 1]  [黑, 1] \n",
      "[白, 1]  [鄧, 1]  [天, 1]  [門, 1]  [東, 1] \n",
      "[・, 1]  [樓, 1]  [繼, 1]  [偉, 1]  [麻, 1] \n",
      "[生, 1]  [郞, 1]  [換, 1]  [地, 1]  [擬, 1] \n"
     ]
    }
   ],
   "source": [
    "from pprint import pprint\n",
    "\n",
    "sorted_non_chars = sorted(non_chars.items(),key=lambda x:-x[1])\n",
    "for i, snon in enumerate(sorted_non_chars[:]):\n",
    "    ch, ch_cnt = snon[0], snon[1]\n",
    "    if (i+1) % 5 == 0:\n",
    "        print(f\"[{ch}, {ch_cnt}] \")\n",
    "    else:\n",
    "        print(f\"[{ch}, {ch_cnt}] \",end=\" \")"
   ]
  },
  {
   "cell_type": "code",
   "execution_count": 70,
   "metadata": {},
   "outputs": [
    {
     "name": "stdout",
     "output_type": "stream",
     "text": [
      "○가(이) 포함된 지문 개수: 139\n",
      "#############\n",
      "generation-for-nlp-488\n",
      "○왕이수(隋)에 군사를 청하는 글을 요청하자, ㉠은/는 “자기가 살기 위\n",
      "해 남을 멸망시키는 것은 승려가 할 일이 아니나, 제가 대왕의 땅에 살면\n",
      "서 수초(水草)를 먹고 있사 오니 명령을 따르겠습니다.”라고 하였다. ○\n",
      "왕이 왕성을 짓고자 하여 ㉡에게 의견을 묻자, “비록 들판의 초가집에 살\n",
      "아도 바른 도를 행하면 복업이 길어질 것이요, 그렇지 않으면 사람을 수고\n",
      "롭게 하여 애써 성(城)을 만들지라도 역시 이익이 없을 것입니다.”라고 \n",
      "하였다. －삼국사기－\n"
     ]
    }
   ],
   "source": [
    "special_pattern = \"○\"\n",
    "\n",
    "special_ids = []\n",
    "for idx, row in df.iterrows() :\n",
    "    special = re.findall(special_pattern, row['paragraph'])\n",
    "    if len(special) > 0 :\n",
    "        special_ids.append(row['id'])\n",
    "print(f\"{special_pattern}가(이) 포함된 지문 개수: {len(special_ids)}\")\n",
    "print(\"#############\")\n",
    "\n",
    "random_idx = random.randint(0, len(special_ids)-1)\n",
    "\n",
    "print(special_ids[random_idx])\n",
    "paragraph = df[df['id'] == special_ids[random_idx]]['paragraph'].values[0]\n",
    "for i in range(0, len(paragraph), 40):\n",
    "    print(paragraph[i:i+40])\n",
    "\n",
    "# 얜 잘 모르겠음 "
   ]
  },
  {
   "cell_type": "code",
   "execution_count": 71,
   "metadata": {},
   "outputs": [
    {
     "name": "stdout",
     "output_type": "stream",
     "text": [
      "○ 삭제한 지문 수 : 139\n"
     ]
    }
   ],
   "source": [
    "# \"○\" 제거\n",
    "\n",
    "special_pattern = \"○\"\n",
    "delete_num = 0\n",
    "for idx in range(len(df)) :\n",
    "    if len(re.findall(special_pattern, df.loc[idx, 'paragraph'])) > 0 :\n",
    "        df.loc[idx, 'paragraph'] = re.sub(special_pattern, \"\", df.loc[idx, 'paragraph'])    \n",
    "        delete_num += 1\n",
    "\n",
    "print(f\"{special_pattern} 삭제한 지문 수 : {delete_num}\")"
   ]
  },
  {
   "cell_type": "code",
   "execution_count": 72,
   "metadata": {},
   "outputs": [
    {
     "name": "stdout",
     "output_type": "stream",
     "text": [
      "△가(이) 포함된 지문 개수: 66\n",
      "#############\n",
      "generation-for-nlp-2801\n",
      "힘찬병원(대표원장 이수찬)이 의대진학을 희망하는 학생들에게 의료현장 체험\n",
      " 기회를 제공하는 ‘제 10회 힘찬병원 청소년 여름 인턴십 프로그램’의 \n",
      "수료식을 지난 26일 진행했다. ‘의사’라는 직업은 청소년들이 진로를 선\n",
      "택하기 전까지 현장을 직접 체험하기 어려운 전문직이다. 힘찬병원은 실제 \n",
      "병원 시스템과 거의 유사하게 인턴 체험을 할 수 있도록 도와 의료계에 종\n",
      "사하고자 하는 학생들의 진로 선정에 도움을 주는 알찬 프로그램을 10년째\n",
      " 이어오고 있다. 힘찬병원 이수찬 대표원장은 “의대 진학을 꿈꾸는 청소년\n",
      "을 위한 직업 체험 인턴십 등 한국의 선진 의료를 이어갈 미래 꿈나무를 \n",
      "키우는 것도 병원의 사회적 역할이라 생각된다”고 말했다. 힘찬병원 7개 \n",
      "분원(강북, 강서, 목동, 부평, 인천, 부산, 창원)에 사전 모집으로 \n",
      "선발된 중·고교생 36명은 7월 24일부터 3일 동안 현장 교육을 통해 \n",
      "직업인 의사를 경험하는 시간을 가졌다. 책이나 인터넷으로 알고 있는 정보\n",
      "에서 벗어나 다양한 의료 시스템을 체험해보면서 적성을 확인하고,정형외과,\n",
      " 신경외과, 내과, 영상의학과, 마취과 등 각 전문의들의 세부적인 진료 \n",
      "과정을 참관할 수 있는 기회를 제공했다. △의학강의 및 의대진학 과정에 \n",
      "대한 의료진의 설명 △의료진 컨퍼런스, 병동 회진, 외래진료 체험 △진단\n",
      "검사의학과〮영상의학과〮통증의학과〮내과의 검사 기기 체험 및 실습 △물리치\n",
      "료, 수술실 체험 교육 등 실제 병원의 시스템을 보고 배우는 생생한 교육\n",
      "의 장이 펼쳐졌다. 참가 학생 모두에게는 수료증과 함께 본인 이름이 새겨\n",
      "진 의사 가운도 선물로 증정됐다.\n"
     ]
    }
   ],
   "source": [
    "special_pattern = \"△\"\n",
    "\n",
    "special_ids = []\n",
    "for idx, row in df.iterrows() :\n",
    "    special = re.findall(special_pattern, row['paragraph'])\n",
    "    if len(special) > 0 :\n",
    "        special_ids.append(row['id'])\n",
    "print(f\"{special_pattern}가(이) 포함된 지문 개수: {len(special_ids)}\")\n",
    "print(\"#############\")\n",
    "\n",
    "random_idx = random.randint(0, len(special_ids)-1)\n",
    "\n",
    "print(special_ids[random_idx])\n",
    "paragraph = df[df['id'] == special_ids[random_idx]]['paragraph'].values[0]\n",
    "for i in range(0, len(paragraph), 40):\n",
    "    print(paragraph[i:i+40])\n",
    "\n",
    "# 약간 , 느낌으로 사용\n"
   ]
  },
  {
   "cell_type": "code",
   "execution_count": 73,
   "metadata": {},
   "outputs": [
    {
     "name": "stdout",
     "output_type": "stream",
     "text": [
      "△ 삭제한 지문 수 : 66\n"
     ]
    }
   ],
   "source": [
    "# \"△\" 제거\n",
    "\n",
    "special_pattern = \"△\"\n",
    "delete_num = 0\n",
    "for idx in range(len(df)) :\n",
    "    if len(re.findall(special_pattern, df.loc[idx, 'paragraph'])) > 0 :\n",
    "        df.loc[idx, 'paragraph'] = re.sub(special_pattern, \",\", df.loc[idx, 'paragraph'])    \n",
    "        delete_num += 1\n",
    "\n",
    "print(f\"{special_pattern} 삭제한 지문 수 : {delete_num}\")"
   ]
  },
  {
   "cell_type": "code",
   "execution_count": 74,
   "metadata": {},
   "outputs": [
    {
     "name": "stdout",
     "output_type": "stream",
     "text": [
      "▲가(이) 포함된 지문 개수: 28\n",
      "#############\n",
      "generation-for-nlp-2552\n",
      "업스테이지(대표 김성훈)가 AI 분야의 직원을 공개 모집한다. 업스테이지\n",
      "는 AI 기술을 통해 기업의 혁신이 가능한 부분을 파악하고 이에 필요한 \n",
      "기본 AI 모델 및 시스템 구축을 포함한 컨설팅을 제공하는 스타트업으로 \n",
      "‘모두를 위한 딥러닝’ 강의로 잘 알려진 글로벌 석학이자 전 네이버 클로\n",
      "바 AI 헤드였던 김성훈 대표가 지난 10월 설립했다. 또한, 네이버 V\n",
      "isual AI / OCR 팀에서 세계적인 성과를 낸 이활석 CTO, 세\n",
      "계 최고의 번역기 파파고의 모델팀을 이끌었던 박은정 CSO를 비롯해 전 \n",
      "카카오 AI 팀장 김재범, 캐글 전 세계 랭킹 12위의 그랜드 마스터 김\n",
      "상훈, 엔비디아 AI 교육 및 개발 마케팅 담당의 손해인 등이 합류했다.\n",
      " 그리고 NYU 조경현 교수와 홍콩과기대 Lei Chen 교수 등이 참여\n",
      "하는 등 전 세계적인 AI 인력들이 업스테이지로 합류하고 있다. 업스테이\n",
      "지의 인재 모집 분야는 ▲소프트웨어 엔지니어(Software engine\n",
      "er - Back-end, Front-end, Machine learni\n",
      "ng)▲AI 연구 엔지니어 (AI research engineer) ▲히\n",
      "어로즈(Heroes) ▲AI 글로벌 레지던시(AI global resid\n",
      "ency) 등이다. 업스테이지는 이번 모집에서 뛰어난 역량의 인재를 영입\n",
      "하는 데 심혈을 기울일 예정이다. 일반 기업 채용과 차별화된 직무 영역인\n",
      " ‘히어로즈(Heroes)’라는 특별 직무를 추가했다. 히어로즈는 AI \n",
      "시대에 꼭 필요한 일들을 개척해 나가며, 기존의 직무로는 한정 지을 수 \n",
      "없는 창의적인 업무를 수행한다. AI 인재 발굴, 인재 영입, 팀 빌딩부\n",
      "터 AI 문제 세팅, 코어 프로덕트 개발, 비즈니스 전략 구축, 실제 서\n",
      "비스 제작까지 업무에 대한 표현은 익숙하지만 AI 비즈니스에서 해당 업무\n",
      "를 진행할 때는 이전과 다른 도전들을 맞닥뜨리게 되는데 이를 도전 정신으\n",
      "로 뚫어내는 직무를 묶어서 히어로즈로 명명했다. 이와 함께, AI 글로벌\n",
      " 레지던시(AI global residency) 모집으로 세계 최고의 A\n",
      "I 인재 개발에도 나선다. 해당 과정을 통해 전 파파고, 클로바의 개발 \n",
      "실무리더들과 함께 진행하는 기술 개발 기회 뿐 만 아니라 캐글 그랜드 마\n",
      "스터와 문제 해결을 도출할 수도 있다. 또한, 홍콩과기대를 포함한 유수학\n",
      "계에서 세계적인 AI 연구도 가능하다. 기간은 1년으로 재택근무가 가능한\n",
      " 리모트 워크 형식으로 페어 프로그래밍과 멘토링을 지원한다. 업스테이지의\n",
      " 인재 모집 절차는 자사 인재 영입 홈페이지에서 입사지원서를 접수한 후 \n",
      "온라인 알고리즘 코딩 테스트부터 컬쳐면접, 기술면접, 임원면접의 단계로 \n",
      "전형이 진행되며, 직군별 우수 인재 영입을 위해 직무 중심으로 한 전형으\n",
      "로 구성했다. 특히 업스테이지는 함께 일하는 구성원들과 함께 성장하는 회\n",
      "사의 미션에 맞게 ‘컬쳐면접’을 도입했다. ‘컬쳐면접’은 업스테이지와 지\n",
      "원자 간 심층적인 대화를 나누는 면접으로 팀원 간의 보다 긴밀한 커뮤니케\n",
      "이션이 요구되는 AI 분야에서 꼭 필요한 과정이다. 업스테이지 김 대표는\n",
      " “업스테이지는 빠르게 성장하는 AI 시장에서 대응하기 위해 인재 역량 \n",
      "강화를 최우선으로 생각한다\"며, \"업스테이지의 AI 로켓에 함께 올라 성\n",
      "장할 AI 전문가의 적극적인 지원을 기대한다.\"고 전했다.\n"
     ]
    }
   ],
   "source": [
    "special_pattern = \"▲\"\n",
    "\n",
    "special_ids = []\n",
    "for idx, row in df.iterrows() :\n",
    "    special = re.findall(special_pattern, row['paragraph'])\n",
    "    if len(special) > 0 :\n",
    "        special_ids.append(row['id'])\n",
    "print(f\"{special_pattern}가(이) 포함된 지문 개수: {len(special_ids)}\")\n",
    "print(\"#############\")\n",
    "\n",
    "random_idx = random.randint(0, len(special_ids)-1)\n",
    "\n",
    "print(special_ids[random_idx])\n",
    "paragraph = df[df['id'] == special_ids[random_idx]]['paragraph'].values[0]\n",
    "for i in range(0, len(paragraph), 40):\n",
    "    print(paragraph[i:i+40])\n",
    "\n",
    "# 약간 , 느낌으로 사용 \n"
   ]
  },
  {
   "cell_type": "code",
   "execution_count": 75,
   "metadata": {},
   "outputs": [
    {
     "name": "stdout",
     "output_type": "stream",
     "text": [
      "▲ 삭제한 지문 수 : 28\n"
     ]
    }
   ],
   "source": [
    "# \"▲\" 제거\n",
    "\n",
    "special_pattern = \"▲\"\n",
    "delete_num = 0\n",
    "for idx in range(len(df)) :\n",
    "    if len(re.findall(special_pattern, df.loc[idx, 'paragraph'])) > 0 :\n",
    "        df.loc[idx, 'paragraph'] = re.sub(special_pattern, \",\", df.loc[idx, 'paragraph'])    \n",
    "        delete_num += 1\n",
    "\n",
    "print(f\"{special_pattern} 삭제한 지문 수 : {delete_num}\")"
   ]
  },
  {
   "cell_type": "code",
   "execution_count": 76,
   "metadata": {},
   "outputs": [
    {
     "name": "stdout",
     "output_type": "stream",
     "text": [
      "㈜가(이) 포함된 지문 개수: 18\n",
      "#############\n",
      "generation-for-nlp-2795\n",
      "㈜에이치이엠(대표 지요셉)이 장내미생물-대사체 연구서비스 및 공정에 대한\n",
      " 연구, 분석, 운영, 영업 및 고객관리 부문에서 ISO 9001(품질경\n",
      "영시스템) 인증을 취득했다고 22일 밝혔다. ISO 9001은 국제표준화\n",
      "기구에서 제정·시행하는 품질경영시스템에 대한 표준 규격으로, 제품 및 서\n",
      "비스의 전 생산 과정에 걸친 품질경영시스템 수준을 평가해 인증해주는 제도\n",
      "이다. 현재 에이치이엠은 장내 미생물 연구를 기반으로 하는 마이크로바이옴\n",
      " 기업이다. 특히, 인간의 장과 비슷한 환경을 형성하여 가장 적합한 맞춤\n",
      "형 솔루션을 찾아주는 국내 최초 PMAS 기술을 가지고 있다. 균주 생산\n",
      "부터 분석 및 서비스 판매까지 사업의 모든 과정을 수행할 수 있는 인력과\n",
      " 시설이 완비되어 있으며 장내 미생물 기반 혁신 신약 개발에 박차를 가하\n",
      "고 있다. 에이치이엠은 체계적인 시스템으로 전문성과 우수성을 입증받기 위\n",
      "해 ISO 9001 인증 획득을 준비해왔다. 이번 국제 인증으로 글로벌 \n",
      "시장에서 대외 신뢰도가 한층 제고될 것으로 기대된다. 에이치이엠 관계자는\n",
      " “ISO 9001 인증을 획득하면서 관련 업계와 고객들에게 신뢰도를 높\n",
      "이게 됐다.”며 “앞으로도 고객이 만족하고 믿을 수 있는 개인 맞춤형 마\n",
      "이크로바이옴 분석 및 솔루션 서비스에 최선을 다할 것”이라고 말했다. 한\n",
      "편 에이치이엠은 2020년도 중소벤처기업부 창업진흥원 창업도약패키지 지원\n",
      " 사업에 선정되어 주관기관 경기창조경제혁신센터의 사업화 지원, 멘토링 등\n",
      " 전문 맞춤 지원을 받고 있다.\n"
     ]
    }
   ],
   "source": [
    "special_pattern = \"㈜\"\n",
    "\n",
    "special_ids = []\n",
    "for idx, row in df.iterrows() :\n",
    "    special = re.findall(special_pattern, row['paragraph'])\n",
    "    if len(special) > 0 :\n",
    "        special_ids.append(row['id'])\n",
    "print(f\"{special_pattern}가(이) 포함된 지문 개수: {len(special_ids)}\")\n",
    "print(\"#############\")\n",
    "\n",
    "random_idx = random.randint(0, len(special_ids)-1)\n",
    "\n",
    "print(special_ids[random_idx])\n",
    "paragraph = df[df['id'] == special_ids[random_idx]]['paragraph'].values[0]\n",
    "for i in range(0, len(paragraph), 40):\n",
    "    print(paragraph[i:i+40])\n",
    "\n"
   ]
  },
  {
   "cell_type": "code",
   "execution_count": 77,
   "metadata": {},
   "outputs": [
    {
     "name": "stdout",
     "output_type": "stream",
     "text": [
      "㈜ 삭제한 지문 수 : 18\n"
     ]
    }
   ],
   "source": [
    "# \"㈜\" 제거\n",
    "\n",
    "special_pattern = \"㈜\"\n",
    "delete_num = 0\n",
    "for idx in range(len(df)) :\n",
    "    if len(re.findall(special_pattern, df.loc[idx, 'paragraph'])) > 0 :\n",
    "        df.loc[idx, 'paragraph'] = re.sub(special_pattern, \"\", df.loc[idx, 'paragraph'])    \n",
    "        delete_num += 1\n",
    "\n",
    "print(f\"{special_pattern} 삭제한 지문 수 : {delete_num}\")"
   ]
  },
  {
   "cell_type": "code",
   "execution_count": 78,
   "metadata": {},
   "outputs": [
    {
     "name": "stdout",
     "output_type": "stream",
     "text": [
      "◇가(이) 포함된 지문 개수: 7\n",
      "#############\n",
      "generation-for-nlp-2718\n",
      "‘가치’를 통해 분석한 경제 현상◇밈노믹스=‘밈(meme)’은 유전을 통\n",
      "하지 않고 사회 속에서 세대 간 옮겨지는 문화 요소를 뜻하는 개념이다. \n",
      "저자는 밈을 경제학에 접목해 ‘시장’ 원리가 아닌 인간이 추구하는 ‘가치\n",
      "’의 프리즘을 통해 경제 현상을 분석하고 미래 경제를 예측한다. 혼돈과 \n",
      "질서의 소용돌이 속에서 변화하고 발전하는 경제 흐름을 인류의 문화적 진화\n",
      "라는 독특한 관점에서 해석했다. (사이드 돌리바니 지음, 박세연 옮김, \n",
      "엘도라도, 444쪽, 1만8000원)唐詩 찾아 중국 삼만리◇중국, 당시의\n",
      " 나라=김준연 고려대 중어중문학과 교수가 이백 두보 백거이 왕유 등이 지\n",
      "은 당시(唐詩)의 흥취를 느끼기 위해 당나라 시대 지도를 들고 길을 나섰\n",
      "다. 13개 성(省)에 산재한 수십 개의 시와 현을 찾아다니며 당시 20\n",
      "0여수의 내력을 훑었다. 10여년간 1만2500㎞를 누빈 대장정의 기록이\n",
      "다. 답사한 명승고적에서 직접 확인할 수 있는 시를 우선적으로 소개했다.\n",
      " (김준연 지음, 궁리, 652쪽, 2만8000원)클래식~팝 … 음악의 \n",
      "본질◇리슨 투 디스=미국 음악 비평계를 선도적으로 이끌고 있는 저자가 클\n",
      "래식과 팝의 경계를 넘나들며 작곡가, 지휘자, 피아니스트, 록밴드, 싱어\n",
      "송라이터 등 다양한 음악가들의 자취를 따라가며 음악의 역사와 본질에 대해\n",
      " 이야기한다. 음악이 인간의 복잡다단한 면을 어떻게 담아내고, 어떤 식으\n",
      "로 살아남아 그 영역을 확장해 나가는지를 흥미롭게 풀어냈다. (알렉스 로\n",
      "스 지음, 장호연 옮김, 뮤진트리, 524쪽, 2만5000원)세월을 요리\n",
      "하는 식당◇백년식당=에세이 작가이자 요리사인 저자가 한국에서 50년 이상\n",
      " 영업한 오래된 식당들의 철학과 삶, 추억이 깃든 음식을 소개한다. 주인\n",
      "들의 기억을 끄집어내고 옛 문헌들을 찾아 ‘그 집’만의 특별함을 기록했다\n",
      ". 청진옥 할매국밥 우래옥 등 저자가 찾은 전국 18곳 식당의 공통점은 \n",
      "음식이 맛있고, 주인이 직접 일하고, 점원들의 근속 기간이 길다는 점이다\n",
      ". (박찬일 글, 노중훈 사진, 중앙M&B, 344쪽, 1만4800원)그\n",
      "들 눈에 비친 넬슨 만델라\n"
     ]
    }
   ],
   "source": [
    "special_pattern = \"◇\"\n",
    "\n",
    "special_ids = []\n",
    "for idx, row in df.iterrows() :\n",
    "    special = re.findall(special_pattern, row['paragraph'])\n",
    "    if len(special) > 0 :\n",
    "        special_ids.append(row['id'])\n",
    "print(f\"{special_pattern}가(이) 포함된 지문 개수: {len(special_ids)}\")\n",
    "print(\"#############\")\n",
    "\n",
    "random_idx = random.randint(0, len(special_ids)-1)\n",
    "\n",
    "print(special_ids[random_idx])\n",
    "paragraph = df[df['id'] == special_ids[random_idx]]['paragraph'].values[0]\n",
    "for i in range(0, len(paragraph), 40):\n",
    "    print(paragraph[i:i+40])\n",
    "\n"
   ]
  },
  {
   "cell_type": "code",
   "execution_count": 79,
   "metadata": {},
   "outputs": [
    {
     "name": "stdout",
     "output_type": "stream",
     "text": [
      "◇ 삭제한 지문 수 : 7\n"
     ]
    }
   ],
   "source": [
    "# \"◇\" 제거\n",
    "\n",
    "special_pattern = \"◇\"\n",
    "delete_num = 0\n",
    "for idx in range(len(df)) :\n",
    "    if len(re.findall(special_pattern, df.loc[idx, 'paragraph'])) > 0 :\n",
    "        df.loc[idx, 'paragraph'] = re.sub(special_pattern, \"\", df.loc[idx, 'paragraph'])    \n",
    "        delete_num += 1\n",
    "\n",
    "print(f\"{special_pattern} 삭제한 지문 수 : {delete_num}\")"
   ]
  },
  {
   "cell_type": "code",
   "execution_count": 80,
   "metadata": {},
   "outputs": [
    {
     "name": "stdout",
     "output_type": "stream",
     "text": [
      "▷가(이) 포함된 지문 개수: 4\n",
      "#############\n",
      "generation-for-nlp-1462\n",
      "기업은행이 하반기 신입사원 220명을 채용한다. 원서마감은 오는 13일이\n",
      "다. 마감 전날인 12일엔 서울 을지로 본사 15층에서 지원자들의 열정과\n",
      " 도전정신을 보고 채용하는 ‘당신을 보여주세요!’란 ‘4분 자기PR’도 \n",
      "진행한다. 채용마감을 앞두고 한창 채용설명회로 바쁜 노학진 기업은행 인사\n",
      "부 차장(사진)을 만나 ‘자격증, 합숙면접, 필기시험’에 관해 물었다. \n",
      "노 차장은 “늘 고객을 대해야 하는 은행원에게 최고의 무기는 미소”라고 \n",
      "말했다.▷자격증 유무가 합격을 좌우하나.“자격증이 없는 것보다 있는 지원\n",
      "자가 유리한 건 사실이다. 다만 자격증을 비롯한 스펙은 참고사항일 뿐 합\n",
      "격을 위한 절대기준은 아니다. 고(高)스펙이라는 것은 성실히 살아왔고 어\n",
      "느 정도 우수인재라고 판단할 수 있다. 스펙이 부족하다면 이를 만회할 남\n",
      "다른 열정과 자신만의 강점을 보여줘야 한다. 참고로 상반기 합격자 210\n",
      "명 중 82명은 금융자격증 하나 없이 합격했다.”▷1박2일 합숙면접 준비\n",
      "는 어떻게.“합숙면접은 팀별 과제, 집단토론 등을 통해 지원자의 마케팅 \n",
      "역량, 팀워크, 조직적응력, 창의력, 표현력 등을 평가하는 과정이다. 면\n",
      "접위원들은 지원자의 나이, 학력 등을 전혀 모른다. 1박2일간의 관찰평가\n",
      "가 이뤄지기 때문에 억지로 자신의 이미지를 만든다든지 과도한 액션은 오히\n",
      "려 어색해 보일 수 있다. 평소 자신의 성격을 그대로 보여주면서 자신만의\n",
      " 강점을 어필하는 것이 중요하다. 더불어 열정, 적극성, 영업력 등 은행\n",
      "원에게 필요한 자질을 보여주면 좋다.”▷필기시험 걱정을 많이 하는데.“필\n",
      "기는 논술·약술과 직무능력 평가로 나눠진다. 평소 신문을 꾸준히 읽으면 \n",
      "좋다. 논술·약술은 경제, 금융상식, 시사문제가 출제된다. 전문지식보다는\n",
      " 예상 가능한 문제들이 출제되기에 너무 긴장할 필요는 없다. 논술은 자신\n",
      "의 의견을 논리적으로 전개하는지가 가장 중요하다. 외부 논문을 그대로 모\n",
      "방하면 좋은 점수를 받기 어렵다. 직무능력 평가는 경제·금융상식, 논리,\n",
      " 수리, 판단, 응용력에 관한 문제가 나온다.”\n"
     ]
    }
   ],
   "source": [
    "special_pattern = \"▷\"\n",
    "\n",
    "special_ids = []\n",
    "for idx, row in df.iterrows() :\n",
    "    special = re.findall(special_pattern, row['paragraph'])\n",
    "    if len(special) > 0 :\n",
    "        special_ids.append(row['id'])\n",
    "print(f\"{special_pattern}가(이) 포함된 지문 개수: {len(special_ids)}\")\n",
    "print(\"#############\")\n",
    "\n",
    "random_idx = random.randint(0, len(special_ids)-1)\n",
    "\n",
    "print(special_ids[random_idx])\n",
    "paragraph = df[df['id'] == special_ids[random_idx]]['paragraph'].values[0]\n",
    "for i in range(0, len(paragraph), 40):\n",
    "    print(paragraph[i:i+40])\n",
    "\n"
   ]
  },
  {
   "cell_type": "code",
   "execution_count": 81,
   "metadata": {},
   "outputs": [
    {
     "name": "stdout",
     "output_type": "stream",
     "text": [
      "▷ 삭제한 지문 수 : 4\n"
     ]
    }
   ],
   "source": [
    "# \"▷\" 제거\n",
    "\n",
    "special_pattern = \"▷\"\n",
    "delete_num = 0\n",
    "for idx in range(len(df)) :\n",
    "    if len(re.findall(special_pattern, df.loc[idx, 'paragraph'])) > 0 :\n",
    "        df.loc[idx, 'paragraph'] = re.sub(special_pattern, \"\", df.loc[idx, 'paragraph'])    \n",
    "        delete_num += 1\n",
    "\n",
    "print(f\"{special_pattern} 삭제한 지문 수 : {delete_num}\")"
   ]
  },
  {
   "cell_type": "code",
   "execution_count": 82,
   "metadata": {},
   "outputs": [
    {
     "name": "stdout",
     "output_type": "stream",
     "text": [
      "ㆍ가(이) 포함된 지문 개수: 8\n",
      "#############\n",
      "generation-for-nlp-2127\n",
      "교육감 선거 예비후보 등록이 2주째를 넘겼지만 서울과 경기는 예비후보가 \n",
      "한 명도 등록하지 않아 관심이 쏠리고 있다. 현직 교육감의 정치권 진출설\n",
      "과 보수 및 진보진영 모두 후보 단일화를 추진하는 등 상황이 복잡하게 전\n",
      "개되면서 ‘오리무중(五里霧中)’에 빠졌다는 분석이다.정치권 외풍 거세져중\n",
      "앙선거관리위원회는 16일 현재 전국 17개 시ㆍ도 교육감 선거에 등록한 \n",
      "예비후보는 56명이라고 밝혔다. 이기용 현 교육감이 ‘4선 연임 제한’에\n",
      " 걸려 출마하지 못하는 충북에 8명이 등록하고 부산·충남·제주 등에 각각\n",
      " 6명이 예비후보로 나서는 등 상당수 지역에서 과열조짐을 보이고 있다.반\n",
      "면 서울과 경기는 한 명도 등록하지 않아 대조를 보이고 있다. 서울과 경\n",
      "기는 현직 교육감이 비교적 탄탄한 기반을 갖추고 있는데다 수도권 특성상 \n",
      "정치권과의 교감이 중시되기 때문으로 분석된다. 문용린 서울교육감의 경우 \n",
      "박근혜 대통령의 교육부문 대선 공약 마련에 기여하는 등 친분이 두터워 대\n",
      "항마가 없다는 분석이 나온다. 그러나 문 교육감은 본인의 부인에도 불구하\n",
      "고 차기 총리설이 불거진 데 이어 최근에는 여권 내부에서 “보수 성향으로\n",
      " 보기 어렵다”는 반응도 나오고 있다.김무성 새누리당 의원 등 일부 강경\n",
      "파는 문 교육감이 학생인권조례나 혁신학교 등 곽노현 전 교육감의 정책을 \n",
      "폐지하는데 다소 소극적으로 대처하고 있다며 불만을 나타낸 것으로 알려졌다\n",
      ". 지방선거 이후 문 교육감의 총리 기용을 포함한 개각이 이뤄지거나, 혹\n",
      "은 여권 일부 강경파가 다른 보수 후보를 적극 천거하는 등 정치권의 ‘외\n",
      "풍(外風)’에 따라 보수진영 서울교육감 후보가 요동칠 수 있다.김상곤 경\n",
      "기교육감 역시 몇 차례 여론조사에서 대부분 선두권을 달리고 있지만 최근 \n",
      "안철수신당 영입설과 함께 경기도지사 출마설이 꾸준히 나오고 있다. 그의 \n",
      "정계 진출 여부에 따라 경기교육감 선거구도도 흔들릴 수 있다.논의만 무성\n",
      "한 후보 단일화보수진영과 진보진영 모두 후보자의 윤곽이 불명확한 가운데 \n",
      "단일화 논의만 앞서 가고 있다는 지적이다. 후보자 자격에 ‘교육경력 3년\n",
      "’을 부활하는 법률 개정안이 이번 선거 이후로 늦춰지면서 보수진영에서는 \n",
      "고승덕 전 의원 등 정치권 인사들의 출마 움직임이 감지되고 있다. 일찌감\n",
      "치 서울교육감 출마의사를 밝힌 조전혁 전 의원은 서울 마포구에 사무실을 \n",
      "내고 활동하고 있으며 보수진영 단일화 논의에 참여할 의사를 보이고 있다.\n",
      " 이상면 전 서울대 교수는 최근 출마 기자회견을 하고 “2012년 서울교\n",
      "육감 보궐선거 당시 문용린 후보가 ‘이번에 양보해 주면 다음 선거에 나오\n",
      "지 않겠다’고 약속했다”고 주장했다.흥사단교육운동본부 등 서울 36개 진\n",
      "보단체도 지난 4일 ‘2014 서울 좋은 교육감 시민추진위원회’(가칭) \n",
      "구성을 위한 모임을 했다. 진보진영에서는 장혜옥 전 전국교직원노동조합 위\n",
      "원장, 최홍이 서울시의회 교육위원장, 조희연 민주화를위한전국교수협의회 공\n",
      "동의장 등이 후보로 거론되고 있다.\n"
     ]
    }
   ],
   "source": [
    "special_pattern = \"ㆍ\"\n",
    "\n",
    "special_ids = []\n",
    "for idx, row in df.iterrows() :\n",
    "    special = re.findall(special_pattern, row['paragraph'])\n",
    "    if len(special) > 0 :\n",
    "        special_ids.append(row['id'])\n",
    "print(f\"{special_pattern}가(이) 포함된 지문 개수: {len(special_ids)}\")\n",
    "print(\"#############\")\n",
    "\n",
    "random_idx = random.randint(0, len(special_ids)-1)\n",
    "\n",
    "print(special_ids[random_idx])\n",
    "paragraph = df[df['id'] == special_ids[random_idx]]['paragraph'].values[0]\n",
    "for i in range(0, len(paragraph), 40):\n",
    "    print(paragraph[i:i+40])\n",
    "\n"
   ]
  },
  {
   "cell_type": "code",
   "execution_count": 83,
   "metadata": {},
   "outputs": [
    {
     "name": "stdout",
     "output_type": "stream",
     "text": [
      "ㆍ 삭제한 지문 수 : 8\n"
     ]
    }
   ],
   "source": [
    "# \"ㆍ\" 제거\n",
    "\n",
    "special_pattern = \"ㆍ\"\n",
    "delete_num = 0\n",
    "for idx in range(len(df)) :\n",
    "    if len(re.findall(special_pattern, df.loc[idx, 'paragraph'])) > 0 :\n",
    "        df.loc[idx, 'paragraph'] = re.sub(special_pattern, \",\", df.loc[idx, 'paragraph'])    \n",
    "        delete_num += 1\n",
    "\n",
    "print(f\"{special_pattern} 삭제한 지문 수 : {delete_num}\")"
   ]
  },
  {
   "cell_type": "code",
   "execution_count": 84,
   "metadata": {},
   "outputs": [
    {
     "name": "stdout",
     "output_type": "stream",
     "text": [
      "§가(이) 포함된 지문 개수: 3\n",
      "#############\n",
      "generation-for-nlp-1049\n",
      "\"기혼 여성의 재산을 보다 효과적으로 보호하기 위한 법률: \"§1. 앞으\n",
      "로 결혼할 여성의 부동산, 결혼 시 그 부동산에서 나오는, 임대료, 토지\n",
      "에서 나오는 수익, 이익은 남편의 단독 처분 대상이 되어서는 아니되며, \n",
      "남편의 채무에 대한 책임이 없으며, 마치 미혼 여성인 것처럼 단독으로 별\n",
      "도의 재산을 계속 유지해야 한다. \"§2. 현재 결혼한 여성의 부동산 및\n",
      " 동산과 그에서 나오는 임대료, 수익, 이익은 남편에 의한 처분 대상이 \n",
      "될 수 없으나, 종전에 계약한 남편의 빚에 책임을 지는 경우를 제외하고는\n",
      ", 마치 미혼 여성인 것처럼 단독인 별도의 재산이다. \"§3. 기혼 여성\n",
      "은 남편이 아닌 다른 이로부터 부동산 및 동산을 포함해 그에 부속된 이권\n",
      "이나 자산을 상속, 증여, 부여, 고안 또는 유증받아 단독 개별 사용이 \n",
      "가능하며, 전달 및 고안할 수 있으며 부속된 임대료, 이득, 이익은 미혼\n",
      " 여성과 동일한 방식과 효과를 갖는다. 이 재산은 남편이 처분할 수 없으\n",
      "며 남편의 빚에 책임을 지지 않는다.\" —기혼 여성 재산법, 뉴욕 주(1\n",
      "848)\n"
     ]
    }
   ],
   "source": [
    "special_pattern = \"§\"\n",
    "\n",
    "special_ids = []\n",
    "for idx, row in df.iterrows() :\n",
    "    special = re.findall(special_pattern, row['paragraph'])\n",
    "    if len(special) > 0 :\n",
    "        special_ids.append(row['id'])\n",
    "print(f\"{special_pattern}가(이) 포함된 지문 개수: {len(special_ids)}\")\n",
    "print(\"#############\")\n",
    "\n",
    "random_idx = random.randint(0, len(special_ids)-1)\n",
    "\n",
    "print(special_ids[random_idx])\n",
    "paragraph = df[df['id'] == special_ids[random_idx]]['paragraph'].values[0]\n",
    "for i in range(0, len(paragraph), 40):\n",
    "    print(paragraph[i:i+40])\n",
    "\n"
   ]
  },
  {
   "cell_type": "code",
   "execution_count": 85,
   "metadata": {},
   "outputs": [
    {
     "name": "stdout",
     "output_type": "stream",
     "text": [
      "§ 삭제한 지문 수 : 3\n"
     ]
    }
   ],
   "source": [
    "# \"§\" 제거\n",
    "\n",
    "special_pattern = \"§\"\n",
    "delete_num = 0\n",
    "for idx in range(len(df)) :\n",
    "    if len(re.findall(special_pattern, df.loc[idx, 'paragraph'])) > 0 :\n",
    "        df.loc[idx, 'paragraph'] = re.sub(special_pattern, \"\", df.loc[idx, 'paragraph'])    \n",
    "        delete_num += 1\n",
    "\n",
    "print(f\"{special_pattern} 삭제한 지문 수 : {delete_num}\")"
   ]
  },
  {
   "cell_type": "code",
   "execution_count": 86,
   "metadata": {},
   "outputs": [
    {
     "name": "stdout",
     "output_type": "stream",
     "text": [
      "▶가(이) 포함된 지문 개수: 9\n",
      "#############\n",
      "generation-for-nlp-2245\n",
      "서울시가 보행공원으로 바뀌는 서울역고가도로를 대체할 새 고가도로를 건설한\n",
      "다. 서울역 배후 주거지역인 중림동·만리동·서계동 일대의 노후주택을 재개\n",
      "발하고, 중림동 가로변 시장을 현대화해 골목상권을 활성화한다. ▶본지 4\n",
      "월16일자 A1·3면, 4월18일자 A1·4면 참조서울시는 이 같은 내용\n",
      "을 담은 ‘서울역 일대 종합발전계획’을 7일 발표했다. 박원순 서울시장이\n",
      " 지난 1월 발표한 서울역고가 공원화 등 ‘서울역 7017 프로젝트’를 \n",
      "토대로, 그동안 수렴한 주민 의견을 반영한 것이다. 이건기 행정2부시장은\n",
      " 이날 기자설명회에서 “하루 유동인구가 40만명에 이르는 서울의 관문이자\n",
      " 중심인 서울역 일대 개발을 통해 쇠퇴한 지역경제에 활력을 불어넣겠다”고\n",
      " 말했다.우선 시는 서울역 북쪽 철도부지를 소유한 코레일과 협의해 북부 \n",
      "역세권의 조기 개발에 나선다. 시는 이달 중 코레일과 함께 태스크포스를 \n",
      "구성해 건축 규모와 기능 등을 협의한 뒤 올해 하반기 민간사업자 공모에 \n",
      "나설 계획이다. 서울역고가 공원화에 따른 왕복 4차선 대체도로는 북부 역\n",
      "세권 개발과 병행해 건설한다.시는 대체도로가 마련되기 전까지 교통 혼잡을\n",
      " 막기 위해 염천교를 통한 우회경로를 마련할 계획이다. 남대문시장 인근을\n",
      " 지나는 시내버스 노선은 현재 12개에서 15개로 늘리고, 이 지역을 편\n",
      "도로 운행하던 버스 일부를 왕복 운행하도록 했다. 이와 함께 남대문시장은\n",
      " 2018년까지 50억원(국비 50%, 시비 50%)을 투입해 현대화한다\n",
      ".그동안 개발이 지체됐던 중림동 만리동 서계동 등 서울역 배후지역도 대대\n",
      "적으로 개발한다. 시는 중림동 가로상권을 활성화해 골목상권을 키울 계획이\n",
      "다. 지하철 2호선 충정로역 인근 호박마을 등 저층 노후주거지 정비를 위\n",
      "해 융자 등 재정지원 방안을 마련하고, 용적률 상향 등 인센티브를 제공해\n",
      " 조속한 개발을 유도할 방침이다. 만리동에서 약현성당을 지나 서소문공원까\n",
      "지 구간은 역사문화거리로 조성된다.현 서울역고가 밑에 있는 청소차량 차고\n",
      "지는 올 하반기에 이전한다. 68대의 중구 쓰레기 청소차량이 주간 시간대\n",
      " 주차하는 이곳은 쓰레기 냄새 등으로 이전을 요구하는 지역 주민의 요구가\n",
      " 거셌다. 시는 청파동과 공덕동 지역은 봉제산업 발전방안을 마련해 지원하\n",
      "기로 했다. 개발이 지연되고 있는 서계동은 올 9월 지구단위계획을 확정해\n",
      " 이른 시일 내 개발할 예정이다.시는 서울역고가 공원화 사업에 반발했던 \n",
      "남대문시장 상인들과는 대화를 계속하며 설득해나갈 방침이다.이와 함께 시는\n",
      " 오는 10일 지난해 10월 이후 두 번째로 서울역고가를 시민에게 개방한\n",
      "다. 시는 이를 위해 고가 상부 400m 구간에 시민 2000명이 한꺼번\n",
      "에 피크닉을 할 수 있는 2400㎡ 규모의 인조잔디밭을 마련할 예정이다.\n"
     ]
    }
   ],
   "source": [
    "special_pattern = \"▶\"\n",
    "\n",
    "special_ids = []\n",
    "for idx, row in df.iterrows() :\n",
    "    special = re.findall(special_pattern, row['paragraph'])\n",
    "    if len(special) > 0 :\n",
    "        special_ids.append(row['id'])\n",
    "print(f\"{special_pattern}가(이) 포함된 지문 개수: {len(special_ids)}\")\n",
    "print(\"#############\")\n",
    "\n",
    "random_idx = random.randint(0, len(special_ids)-1)\n",
    "\n",
    "print(special_ids[random_idx])\n",
    "paragraph = df[df['id'] == special_ids[random_idx]]['paragraph'].values[0]\n",
    "for i in range(0, len(paragraph), 40):\n",
    "    print(paragraph[i:i+40])\n",
    "\n"
   ]
  },
  {
   "cell_type": "code",
   "execution_count": 87,
   "metadata": {},
   "outputs": [
    {
     "name": "stdout",
     "output_type": "stream",
     "text": [
      "▶ 삭제한 지문 수 : 9\n"
     ]
    }
   ],
   "source": [
    "# \"▶\" 제거\n",
    "\n",
    "special_pattern = \"▶\"\n",
    "delete_num = 0\n",
    "for idx in range(len(df)) :\n",
    "    if len(re.findall(special_pattern, df.loc[idx, 'paragraph'])) > 0 :\n",
    "        df.loc[idx, 'paragraph'] = re.sub(special_pattern, \"\", df.loc[idx, 'paragraph'])    \n",
    "        delete_num += 1\n",
    "\n",
    "print(f\"{special_pattern} 삭제한 지문 수 : {delete_num}\")"
   ]
  },
  {
   "cell_type": "code",
   "execution_count": 88,
   "metadata": {},
   "outputs": [
    {
     "name": "stdout",
     "output_type": "stream",
     "text": [
      "◆가(이) 포함된 지문 개수: 4\n",
      "#############\n",
      "generation-for-nlp-1929\n",
      "평균수명이 점차 늘어나며 100세 시대가 현실화되고 있다. 하지만 단순히\n",
      " 수명만 늘어나는 것은 그만큼 질병 속에서 살아가야 하는 날이 더 늘어났\n",
      "다는 의미이기도 하다. ‘활백시대(활발하게 활동하며 백세를 누린다는 의미\n",
      ")’라는 말이 있듯이 건강하게 오래 사는 것이 중요하다. 특히 무릎건강은\n",
      " 고령화 시대에 삶의 질을 결정하는 중요한 요소다. ‘걸어야 산다’는 말\n",
      "처럼 노년층에 무릎통증으로 거동이 불편하게 되면 근력이 점점 부족하게 되\n",
      "고, 움직이지 못하면 만성질환이 악화하는 데다 우울증까지 깊어지게 되는 \n",
      "것이다. 따라서 무릎관절염으로 가까운 거리를 걷는 것조차 힘들고, 가만히\n",
      " 앉아있어도 무릎이 쑤시며 잠을 설칠 정도로 통증이 심하다면 길어진 여생\n",
      "을 건강하게 보내기 위해서는 인공관절수술을 적극적으로 고려해보는 것이 좋\n",
      "다. 고령에는 마취나 부작용에 부담을 느껴 수술을 꺼릴 수 있지만 최근에\n",
      "는 의학기술이 발달해 고령 환자도 안전하게 인공관절수술을 받고 건강한 노\n",
      "년을 보낼 수 있다. ◆ 만성질환 있어도 내과 협진으로 안전한 수술 가능\n",
      " 무릎 인공관절수술은 손상된 연골과 관절을 대신할 수 있는 인공관절을 삽\n",
      "입하는 수술이다. 통증을 줄이고 관절 기능을 회복시킬 수 있어 극심한 통\n",
      "증으로 일상생활이 힘들었던 환자들의 만족도가 높은 편이다. 하지만 노년의\n",
      " 나이라면 관절염 외에도 고혈압, 당뇨, 심장질환 등 다른 만성질환을 가\n",
      "지고 있는 경우가 많아 수술 중 발생하는 출혈, 각종 합병증, 수술 후 \n",
      "더딘 회복 등이 부담스러울 수 있다. 하지만 만성질환이 있어도 정형외과 \n",
      "전문의와 내과 전문의의 긴밀한 협진체계가 가능하다면 면밀한 진료와 사전검\n",
      "사를 통해 안전하게 인공관절수술을 받을 수 있다. 관절염으로 활동에 제약\n",
      "이 생기면 우울증, 체중증가, 근력감소 등은 물론 만성질환도 더욱 악화될\n",
      " 수 있기 때문에 수술에 대한 부담으로 통증을 참고 견디기보다 전문의와 \n",
      "충분한 상담을 통해 안전한 수술을 고려해보는 것이 좋다. ◆ 로봇 인공관\n",
      "절수술, 회복 빨라 고령 환자도 부담 적어 수술 중 오차를 더욱 줄여 보\n",
      "다 정확한 수술이 가능한 로봇 인공관절수술은 회복이 느린 고령 환자의 수\n",
      "술 부담을 낮추는데 도움을 줄 수 있다. 수술 중 발생하는 출혈과 조직 \n",
      "손상이 적어 감염, 부작용, 통증을 줄여주고, 회복 시간도 단축시키기 때\n",
      "문이다. 무릎 인공관절수술은 고관절에서 무릎, 발목까지 이르는 다리의 축\n",
      "을 정확하게 맞추는 것이 중요하다. 하지의 정렬이 바르게 되어야 하중이 \n",
      "무릎 전반에 고르게 분산될 수 있어 수술 후 관절의 기능을 정상적으로 회\n",
      "복할 수 있다. 다리 축 정렬을 위해 일반 인공관절수술에서는 허벅지 뼈에\n",
      " 30~50cm정도 길게 구멍을 내 기구를 고정해 맞추게 되는데 로봇수술\n",
      "에서는 이러한 과정이 없이 컴퓨터 프로그램을 통해 정확한 수치로 계산할 \n",
      "수 있다. 목동힘찬병원 이정훈 원장(정형외과 전문의)은 “로봇수술은 이처\n",
      "럼 뼈에 구멍을 뚫지 않아도 되기 때문에 수술 중 출혈을 줄일 수 있어 \n",
      "환자의 빠른 회복에도 도움이 된다”며 “환자 상태에 따라 무수혈 수술도 \n",
      "시행할 수 있는데, 수혈로 인해 발생할 수 있는 감염, 혈전증 등 각종 \n",
      "합병증을 최소화할 수 있어 고령 환자도 보다 안전하게 수술을 받을 수 있\n",
      "다”고 설명했다. 또한 인공관절 삽입을 위해 관절 뼈를 절삭하는 과정에서\n",
      "도 로봇시스템을 이용해 최소한으로 정확하게 깎아내는 동시에, 건강한 주변\n",
      " 조직의 손상은 막아줌으로써 수술 후 빠른 회복을 도와주기 때문에 고령 \n",
      "환자의 수술 부담을 줄일 수 있다.\n"
     ]
    }
   ],
   "source": [
    "special_pattern = \"◆\"\n",
    "\n",
    "special_ids = []\n",
    "for idx, row in df.iterrows() :\n",
    "    special = re.findall(special_pattern, row['paragraph'])\n",
    "    if len(special) > 0 :\n",
    "        special_ids.append(row['id'])\n",
    "print(f\"{special_pattern}가(이) 포함된 지문 개수: {len(special_ids)}\")\n",
    "print(\"#############\")\n",
    "\n",
    "random_idx = random.randint(0, len(special_ids)-1)\n",
    "\n",
    "print(special_ids[random_idx])\n",
    "paragraph = df[df['id'] == special_ids[random_idx]]['paragraph'].values[0]\n",
    "for i in range(0, len(paragraph), 40):\n",
    "    print(paragraph[i:i+40])\n",
    "\n"
   ]
  },
  {
   "cell_type": "code",
   "execution_count": 89,
   "metadata": {},
   "outputs": [
    {
     "name": "stdout",
     "output_type": "stream",
     "text": [
      "◆ 삭제한 지문 수 : 4\n"
     ]
    }
   ],
   "source": [
    "# \"◆\" 제거\n",
    "\n",
    "special_pattern = \"◆\"\n",
    "delete_num = 0\n",
    "for idx in range(len(df)) :\n",
    "    if len(re.findall(special_pattern, df.loc[idx, 'paragraph'])) > 0 :\n",
    "        df.loc[idx, 'paragraph'] = re.sub(special_pattern, \"\", df.loc[idx, 'paragraph'])    \n",
    "        delete_num += 1\n",
    "\n",
    "print(f\"{special_pattern} 삭제한 지문 수 : {delete_num}\")"
   ]
  },
  {
   "cell_type": "code",
   "execution_count": 90,
   "metadata": {},
   "outputs": [
    {
     "name": "stdout",
     "output_type": "stream",
     "text": [
      "■가(이) 포함된 지문 개수: 3\n",
      "#############\n",
      "generation-for-nlp-2165\n",
      "우리 몸속의 다양한 생체반응에서 촉매반응을 담당하는 효소들은, 특정 분자\n",
      "에 한정된 반응이나 낮은 안정성 등 약점 때문에 다양한 진단 및 치료에 \n",
      "직접적으로 활용하기 어려운 한계가 있다. 많은 연구자들은 이러한 효소의 \n",
      "특성을 보완하거나 생체 내에서 효소와 만나 시너지효과를 낼 수 있는 인공\n",
      "촉매를 이용한다면, 질병을 진단하고 치료하는 다양한 방법이 나올 것으로 \n",
      "기대하고 있다. 특히, 자기장과 같은 외부자극에 반응하는 인공촉매가 개발\n",
      "될 경우 몸 밖에서 원격으로 생체반응을 제어할 수 있는 새로운 치료 방법\n",
      "도 현실이 될 수 있다. POSTECH(포항공과대학교, 총장 김무환) 화\n",
      "학과 이인수 교수 연구팀은 살아있는 세포 내에서 높은 촉매 효율을 보이는\n",
      " 원격자극 감응형 인공촉매 “MAG-NER”를 개발했다. 이 연구는 나노\n",
      "분야 국제학술지 ‘나노레터스(Nano Letters)’지 표지논문으로 발\n",
      "표됐다. 연구팀은 세포 내 소기관인 소포(小胞)* 구조를 모사해, 속이 \n",
      "빈 실리카 나노껍질의 내부에 산화철-나노입자와 팔라듐(Pd) 촉매를 가지\n",
      "고 있는 자기-촉매 결합 나노반응기를 합성했다. MAG-NER가 교류 자\n",
      "기장을 만나면, 내부의 산화철-나노입자가 자기장 유도 발열 현상을 일으키\n",
      "며, 외부의 온도를 올리지 않으면서 팔라듐 촉매만을 활성화시키게 된다. \n",
      "연구팀은 MAG-NER를 살아있는 세포 안에 흡수시킨 후 교류자기장을 가\n",
      "하는 실험을 통해 비(非)형광성 반응물을 형광성 생성물로 변화시키는 촉매\n",
      " 반응을 높은 효율로 구현하는데 성공했다. 또, MAG-NER의 촉매가 \n",
      "세포 내에서도 생체분자에 의해 오염되지 않고 오랜 기간 활성을 유지할 수\n",
      " 있으며, 세포의 생존에 영향을 주지 않는 것도 확인했다. MAG-NER\n",
      "를 활용하면 생체에 무해한 자기장을 이용해 세포 내에서 인공 분자를 합성\n",
      "하거나 화학반응을 유도할 수 있어, 세포의 기능을 인위적으로 원격제어할 \n",
      "수 있는 진단‧치료 방법이 구현할 수 있을 것으로 기대된다. 연구를 주도\n",
      "한 이인수 교수는 “이 연구는 우리 실험실이 주도적으로 개발해온 속 빈 \n",
      "나노반응기 물질을 응용한 연구 결과로 생체의학과 생물학적 연구를 진일보시\n",
      "킬 혁신적인 화학도구로 평가받고 있다”고 설명했다. 한편, 이 연구는 한\n",
      "국연구재단 리더연구자지원사업(창의연구)의 지원을 받아 수행됐다. [용어설\n",
      "명] ■ 소포 (vesicle) 한 겹의 지방 이중층에 싸여 세포질과 구\n",
      "분된 세포소기관이다. 주로 세포의 생산물, 부산물, 배설물을 저장, 운송\n",
      "하고 소화하는 역할을 한다.\n"
     ]
    }
   ],
   "source": [
    "special_pattern = \"■\"\n",
    "\n",
    "special_ids = []\n",
    "for idx, row in df.iterrows() :\n",
    "    special = re.findall(special_pattern, row['paragraph'])\n",
    "    if len(special) > 0 :\n",
    "        special_ids.append(row['id'])\n",
    "print(f\"{special_pattern}가(이) 포함된 지문 개수: {len(special_ids)}\")\n",
    "print(\"#############\")\n",
    "\n",
    "random_idx = random.randint(0, len(special_ids)-1)\n",
    "\n",
    "print(special_ids[random_idx])\n",
    "paragraph = df[df['id'] == special_ids[random_idx]]['paragraph'].values[0]\n",
    "for i in range(0, len(paragraph), 40):\n",
    "    print(paragraph[i:i+40])\n",
    "\n"
   ]
  },
  {
   "cell_type": "code",
   "execution_count": 91,
   "metadata": {},
   "outputs": [
    {
     "name": "stdout",
     "output_type": "stream",
     "text": [
      "■ 삭제한 지문 수 : 3\n"
     ]
    }
   ],
   "source": [
    "# \"■\" 제거\n",
    "\n",
    "special_pattern = \"■\"\n",
    "delete_num = 0\n",
    "for idx in range(len(df)) :\n",
    "    if len(re.findall(special_pattern, df.loc[idx, 'paragraph'])) > 0 :\n",
    "        df.loc[idx, 'paragraph'] = re.sub(special_pattern, \"\", df.loc[idx, 'paragraph'])    \n",
    "        delete_num += 1\n",
    "\n",
    "print(f\"{special_pattern} 삭제한 지문 수 : {delete_num}\")"
   ]
  },
  {
   "cell_type": "code",
   "execution_count": 92,
   "metadata": {},
   "outputs": [
    {
     "name": "stdout",
     "output_type": "stream",
     "text": [
      "\\n{2,}가(이) 포함된 지문 개수: 3\n",
      "#############\n",
      "generation-for-nlp-1163\n",
      "“불가능한 상황을 평화로운 시정으로 해결해야 한다면서 평화로운 시정을 계\n",
      "속해서 거부하는 건 불가능한 요구입니다. 이러한 시정을 이행하는 자가 법\n",
      "을 위반하고 있다고 말하는 것 역시 말이 되지 않습니다. 베르사유의 ‘명\n",
      "령(Dikta)’은 우리에게 법이 아니기 때문입니다. 그들은 우리 머리에\n",
      " 총구를 들이대며, 수백만 국민의 기아를 인질로 삼으며 서명을 강요했습니\n",
      "다. 그리고 그렇게 어쩔 수 없이 서명한 이 서류는 엄숙한 법으로 선언되\n",
      "었습니다.” 아돌프 히틀러, 독일제국의회에서의 연설, 1939년 9월 1\n",
      "일\n",
      "\n",
      "“우리는 항복하거나 패배하지 않을 것입니다. 우리는 끝까지 싸울 것\n",
      "입니다. 우리는 프랑스에서 싸울 것입니다. 우리는 바다와 대양에서 싸울 \n",
      "것입니다. 우리는 자신감과 힘을 길러 하늘에서 싸울 것입니다. 어떤 대가\n",
      "를 치르더라도 우리의 땅을 지켜 낼 것입니다 우리는 해변에서 싸울 것입니\n",
      "다. 우리는 상륙지점에서 싸울 것입니다. 우리는 들판과 거리에서 싸울 것\n",
      "입니다. 우리는 언덕에서 싸울 것입니다. 우리는 절대로 항복하지 않을 것\n",
      "입니다.” 윈스턴 처칠, 하원 연설, 1940년 6월 4일\n"
     ]
    }
   ],
   "source": [
    "special_pattern = r'\\n{2,}'\n",
    "\n",
    "special_ids = []\n",
    "for idx, row in df.iterrows() :\n",
    "    special = re.findall(special_pattern, row['paragraph'])\n",
    "    if len(special) > 0 :\n",
    "        special_ids.append(row['id'])\n",
    "print(f\"{special_pattern}가(이) 포함된 지문 개수: {len(special_ids)}\")\n",
    "print(\"#############\")\n",
    "\n",
    "random_idx = random.randint(0, len(special_ids)-1)\n",
    "\n",
    "print(special_ids[random_idx])\n",
    "paragraph = df[df['id'] == special_ids[random_idx]]['paragraph'].values[0]\n",
    "for i in range(0, len(paragraph), 40):\n",
    "    print(paragraph[i:i+40])\n",
    "\n"
   ]
  },
  {
   "cell_type": "code",
   "execution_count": 93,
   "metadata": {},
   "outputs": [
    {
     "name": "stdout",
     "output_type": "stream",
     "text": [
      "\\n{2,} 삭제한 지문 수 : 3\n"
     ]
    }
   ],
   "source": [
    "# 개행문자 2번 이상 연속 제거\n",
    "\n",
    "special_pattern = r'\\n{2,}'\n",
    "delete_num = 0\n",
    "for idx in range(len(df)) :\n",
    "    if len(re.findall(special_pattern, df.loc[idx, 'paragraph'])) > 0 :\n",
    "        df.loc[idx, 'paragraph'] = re.sub(special_pattern, \"\\n\", df.loc[idx, 'paragraph'])    \n",
    "        delete_num += 1\n",
    "\n",
    "print(f\"{special_pattern} 삭제한 지문 수 : {delete_num}\")"
   ]
  },
  {
   "cell_type": "code",
   "execution_count": 94,
   "metadata": {},
   "outputs": [],
   "source": [
    "# problems = []\n",
    "# for idx, row in df.iterrows() :\n",
    "#     dict_ = {'question' : row['question'],\n",
    "#              'choices' : row['choices'],\n",
    "#              'answer' : row['answer']}\n",
    "#     problems.append(dict_)\n",
    "\n",
    "# df['problems'] = problems\n",
    "# df.drop(columns = ['question','choices','answer'], inplace = True)\n",
    "\n",
    "# df.to_csv(\"../../../data/v0/first_clean_train.csv\", index=False)"
   ]
  },
  {
   "cell_type": "markdown",
   "metadata": {},
   "source": [
    "### 길이 파악"
   ]
  },
  {
   "cell_type": "code",
   "execution_count": 95,
   "metadata": {},
   "outputs": [
    {
     "name": "stdout",
     "output_type": "stream",
     "text": [
      "문장 길이 평균 : 737.328\n"
     ]
    }
   ],
   "source": [
    "import numpy as np\n",
    "# 글자 수 기반 문장길이 확인\n",
    "paragraph = df['paragraph']\n",
    "lens_prg = np.array([len(prg) for prg in paragraph])\n",
    "print(\"문장 길이 평균 : {:.3f}\".format(lens_prg.mean()))"
   ]
  },
  {
   "cell_type": "code",
   "execution_count": 96,
   "metadata": {},
   "outputs": [
    {
     "data": {
      "image/png": "[encoded data removed]",
      "text/plain": [
       "<Figure size 2000x500 with 3 Axes>"
      ]
     },
     "metadata": {},
     "output_type": "display_data"
    }
   ],
   "source": [
    "import matplotlib.pyplot as plt\n",
    "# 히스토그램 데이터 생성\n",
    "counts, bins = np.histogram(lens_prg, bins=50)\n",
    "\n",
    "# 막대의 색상 적용\n",
    "colors = plt.cm.viridis(counts / counts.max())  # Viridis 색상 맵 사용\n",
    "\n",
    "# 플롯\n",
    "fig, ax = plt.subplots(1, 2, figsize=(20, 5))\n",
    "for i in range(len(bins) - 1):\n",
    "    ax[0].bar(bins[i], counts[i], width=bins[i + 1] - bins[i], color=colors[i], edgecolor=\"black\")\n",
    "\n",
    "ax[0].set_title(\"Distribution of Paragraph Text Length\")\n",
    "ax[0].set_ylabel(\"Counts\")\n",
    "ax[0].set_xlabel(\"Length\")\n",
    "\n",
    "# 컬러바 추가\n",
    "sm = plt.cm.ScalarMappable(cmap=\"viridis\", norm=plt.Normalize(vmin=counts.min(), vmax=counts.max()))\n",
    "sm.set_array([])\n",
    "cbar = plt.colorbar(sm, ax=ax)\n",
    "cbar.set_label(\"Counts\")\n",
    "\n",
    "# 박스 플롯 생성\n",
    "\n",
    "Q1 = np.percentile(lens_prg, 25)\n",
    "Q3 = np.percentile(lens_prg, 75)\n",
    "IQR = Q3 - Q1\n",
    "upper_bound = Q3 + 1.5 * IQR\n",
    "\n",
    "ax[1].boxplot(lens_prg, vert=False)\n",
    "ax[1].set_xlabel(\"Length\")\n",
    "\n",
    "ax[1].text(Q1, 1.1, f\"Q1: {Q1:.2f}\", color=\"blue\", ha=\"center\")\n",
    "ax[1].text(Q3, 1.1, f\"Q3: {Q3:.2f}\", color=\"blue\", ha=\"center\")\n",
    "ax[1].text(upper_bound, 1.1, f\"Upper Bound: {upper_bound:.2f}\", color=\"red\", ha=\"center\")\n",
    "ax[1].text((Q1 + Q3) / 2, 1.15, f\"IQR: {IQR:.2f}\", color=\"blue\", ha=\"center\", fontsize=10)\n",
    "\n",
    "\n",
    "outliers = lens_prg[lens_prg > upper_bound]\n",
    "max_outlier = outliers.max() if len(outliers) > 0 else None  # Check if there are any outliers\n",
    "\n",
    "if max_outlier is not None:\n",
    "    ax[1].text(max_outlier, 1.2, f\"Max Outlier: {max_outlier}\", color=\"purple\", ha=\"center\", fontsize=10)\n",
    "\n",
    "\n",
    "\n",
    "plt.show()"
   ]
  },
  {
   "cell_type": "markdown",
   "metadata": {},
   "source": [
    "### 선지에 이상한 것들 파악 "
   ]
  },
  {
   "cell_type": "code",
   "execution_count": 97,
   "metadata": {},
   "outputs": [
    {
     "data": {
      "text/plain": [
       "' \\n\\ngeneration-for-nlp-676,\"대통령이 임기 마지막 2년을 앞두고 있음, 국제적 위기의 횟수와 심각성이 증가하고 있음, 의회와 백악관을 지배하는 정당이 서로 다름, 경제가 탄탄하고 대통령의 지지율이 높음.\",\"{\\'question\\': \\'대통령은 보통 다음 중 어떤 상황에서 정치권력의 감소를 경험합니까?\\', \\'choices\\': [\\'I만\\', \\'I과 II만\\', \\'I과 III만\\', \\'II와 III만\\'], \\'answer\\': 3}\",\\n-> 이런거는 1, 2, 3이 각각 뭔지 알 수가 없음 \\n\\n\\xa0 포함된거는 풀수가 없게 만들어져있음 -> 근데 지문의 표 패턴을 알아서 학습하지 않을까?? \\n\\n'"
      ]
     },
     "execution_count": 97,
     "metadata": {},
     "output_type": "execute_result"
    }
   ],
   "source": [
    "\"\"\" \n",
    "\n",
    "generation-for-nlp-676,\"대통령이 임기 마지막 2년을 앞두고 있음, 국제적 위기의 횟수와 심각성이 증가하고 있음, 의회와 백악관을 지배하는 정당이 서로 다름, 경제가 탄탄하고 대통령의 지지율이 높음.\",\"{'question': '대통령은 보통 다음 중 어떤 상황에서 정치권력의 감소를 경험합니까?', 'choices': ['I만', 'I과 II만', 'I과 III만', 'II와 III만'], 'answer': 3}\",\n",
    "-> 이런거는 1, 2, 3이 각각 뭔지 알 수가 없음 \n",
    "\n",
    "\\xa0 포함된거는 풀수가 없게 만들어져있음 -> 근데 지문의 표 패턴을 알아서 학습하지 않을까?? \n",
    "\n",
    "\"\"\""
   ]
  },
  {
   "cell_type": "code",
   "execution_count": null,
   "metadata": {},
   "outputs": [],
   "source": []
  },
  {
   "cell_type": "markdown",
   "metadata": {},
   "source": [
    "### 선지 분포 확인"
   ]
  },
  {
   "cell_type": "code",
   "execution_count": 104,
   "metadata": {},
   "outputs": [
    {
     "data": {
      "image/png": "[encoded data removed]",
      "text/plain": [
       "<Figure size 800x600 with 1 Axes>"
      ]
     },
     "metadata": {},
     "output_type": "display_data"
    }
   ],
   "source": [
    "import matplotlib.pyplot as plt\n",
    "value_counts = df['answer'].value_counts().sort_index()\n",
    "\n",
    "# 시각화\n",
    "plt.figure(figsize=(8, 6))\n",
    "value_counts.plot(kind='bar')\n",
    "plt.title('Distribution of Answer Values', fontsize=14)\n",
    "plt.xlabel('Answer Values', fontsize=12)\n",
    "plt.ylabel('Count', fontsize=12)\n",
    "plt.xticks(rotation=0)\n",
    "plt.grid(axis='y', linestyle='--', alpha=0.7)\n",
    "plt.show()"
   ]
  },
  {
   "cell_type": "code",
   "execution_count": null,
   "metadata": {},
   "outputs": [],
   "source": [
    "\n",
    "no_1 = []\n",
    "no_2 = []\n",
    "no_3 = []\n",
    "no_4 = []\n",
    "for idx in range(len(df)) :\n",
    "    "
   ]
  },
  {
   "cell_type": "code",
   "execution_count": null,
   "metadata": {},
   "outputs": [],
   "source": []
  },
  {
   "cell_type": "code",
   "execution_count": null,
   "metadata": {},
   "outputs": [],
   "source": []
  },
  {
   "cell_type": "code",
   "execution_count": null,
   "metadata": {},
   "outputs": [],
   "source": []
  },
  {
   "cell_type": "code",
   "execution_count": null,
   "metadata": {},
   "outputs": [],
   "source": []
  },
  {
   "cell_type": "markdown",
   "metadata": {},
   "source": [
    "# 주제 분류를 어떻게 할 것인가?"
   ]
  },
  {
   "cell_type": "markdown",
   "metadata": {},
   "source": [
    "\n",
    "\n",
    "# FastText로 가능한거 해보기 \n",
    "\n",
    "\n",
    "# 만약 FastText로 정제가 가능하면 이걸로 정제좀 하고 길이 확인 ㄱㄱ \n",
    "# 추가적으로 선지 분포도 확인 ㄱㄱ 이후 선지 좀 레이블 비슷하게 하는거 ㄱㄱ "
   ]
  },
  {
   "cell_type": "code",
   "execution_count": null,
   "metadata": {},
   "outputs": [],
   "source": []
  },
  {
   "cell_type": "code",
   "execution_count": null,
   "metadata": {},
   "outputs": [],
   "source": []
  },
  {
   "cell_type": "code",
   "execution_count": null,
   "metadata": {},
   "outputs": [],
   "source": []
  },
  {
   "cell_type": "code",
   "execution_count": null,
   "metadata": {},
   "outputs": [],
   "source": []
  },
  {
   "cell_type": "code",
   "execution_count": null,
   "metadata": {},
   "outputs": [],
   "source": []
  }
 ],
 "metadata": {
  "kernelspec": {
   "display_name": "base",
   "language": "python",
   "name": "python3"
  },
  "language_info": {
   "codemirror_mode": {
    "name": "ipython",
    "version": 3
   },
   "file_extension": ".py",
   "mimetype": "text/x-python",
   "name": "python",
   "nbconvert_exporter": "python",
   "pygments_lexer": "ipython3",
   "version": "3.10.13"
  }
 },
 "nbformat": 4,
 "nbformat_minor": 2
}
