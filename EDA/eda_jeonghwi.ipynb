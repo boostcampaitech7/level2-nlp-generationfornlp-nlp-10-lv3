{
 "cells": [
  {
   "cell_type": "code",
   "execution_count": 1,
   "metadata": {},
   "outputs": [],
   "source": [
    "import torch\n",
    "import matplotlib.pyplot as plt\n",
    "import pandas as pd\n",
    "import numpy as np\n",
    "from transformers import AutoTokenizer\n",
    "import os\n",
    "import sys\n",
    "\n",
    "from datasets import Dataset\n",
    "\n",
    "from collections import Counter"
   ]
  },
  {
   "cell_type": "markdown",
   "metadata": {},
   "source": [
    "# Data 형태 확인"
   ]
  },
  {
   "cell_type": "code",
   "execution_count": 2,
   "metadata": {},
   "outputs": [],
   "source": [
    "data_path = \"../../data\"\n",
    "data = pd.read_csv(os.path.join(data_path,\"train.csv\"))"
   ]
  },
  {
   "cell_type": "code",
   "execution_count": 3,
   "metadata": {},
   "outputs": [
    {
     "data": {
      "text/html": [
       "<div>\n",
       "<style scoped>\n",
       "    .dataframe tbody tr th:only-of-type {\n",
       "        vertical-align: middle;\n",
       "    }\n",
       "\n",
       "    .dataframe tbody tr th {\n",
       "        vertical-align: top;\n",
       "    }\n",
       "\n",
       "    .dataframe thead th {\n",
       "        text-align: right;\n",
       "    }\n",
       "</style>\n",
       "<table border=\"1\" class=\"dataframe\">\n",
       "  <thead>\n",
       "    <tr style=\"text-align: right;\">\n",
       "      <th></th>\n",
       "      <th>id</th>\n",
       "      <th>paragraph</th>\n",
       "      <th>problems</th>\n",
       "      <th>question_plus</th>\n",
       "    </tr>\n",
       "  </thead>\n",
       "  <tbody>\n",
       "    <tr>\n",
       "      <th>0</th>\n",
       "      <td>generation-for-nlp-425</td>\n",
       "      <td>상소하여 아뢰기를 , “신이 좌참 찬 송준길이 올린 차자를 보았는데 , 상복(喪服)...</td>\n",
       "      <td>{'question': '상소한 인물이 속한 붕당에 대한 설명으로 옳은 것만을 모두...</td>\n",
       "      <td>NaN</td>\n",
       "    </tr>\n",
       "    <tr>\n",
       "      <th>1</th>\n",
       "      <td>generation-for-nlp-426</td>\n",
       "      <td>(가)은/는 의병계열과 애국계몽 운동 계열의 비밀결사가 모여 결성된 조직으로, 총사...</td>\n",
       "      <td>{'question': '(가)에 대한 설명으로 옳지 않은 것은?', 'choice...</td>\n",
       "      <td>NaN</td>\n",
       "    </tr>\n",
       "    <tr>\n",
       "      <th>2</th>\n",
       "      <td>generation-for-nlp-427</td>\n",
       "      <td>나는 삼한(三韓) 산천의 음덕을 입어 대업을 이루었다.(가)는/은 수덕(水德)이 순...</td>\n",
       "      <td>{'question': '(가) 지역에 대한 설명으로 옳은 것은?', 'choice...</td>\n",
       "      <td>NaN</td>\n",
       "    </tr>\n",
       "    <tr>\n",
       "      <th>3</th>\n",
       "      <td>generation-for-nlp-428</td>\n",
       "      <td>이 날 소정방이 부총관 김인문 등과 함께 기 벌포에 도착하여 백제 군사와 마주쳤다....</td>\n",
       "      <td>{'question': '밑줄 친 ‘그’에 대한 설명으로 옳은 것은?', 'choi...</td>\n",
       "      <td>NaN</td>\n",
       "    </tr>\n",
       "    <tr>\n",
       "      <th>4</th>\n",
       "      <td>generation-for-nlp-429</td>\n",
       "      <td>선비들 수만 명이 대궐 앞에 모여 만 동묘와 서원을 다시 설립할 것을 청하니, (가...</td>\n",
       "      <td>{'question': '(가) 인물이 추진한 정책으로 옳지 않은 것은?', 'ch...</td>\n",
       "      <td>NaN</td>\n",
       "    </tr>\n",
       "    <tr>\n",
       "      <th>...</th>\n",
       "      <td>...</td>\n",
       "      <td>...</td>\n",
       "      <td>...</td>\n",
       "      <td>...</td>\n",
       "    </tr>\n",
       "    <tr>\n",
       "      <th>2026</th>\n",
       "      <td>generation-for-nlp-2893</td>\n",
       "      <td>“헐값에 팔리는 냉동 오렌지주스만 잔뜩 사가고, 쿠폰을 오려 모았으며, 구멍 난 스...</td>\n",
       "      <td>{'question': '잭 맥도널드가 남긴 유산의 총액은 얼마인가?', 'choi...</td>\n",
       "      <td>NaN</td>\n",
       "    </tr>\n",
       "    <tr>\n",
       "      <th>2027</th>\n",
       "      <td>generation-for-nlp-2894</td>\n",
       "      <td>넷기어코리아(지사장 김진겸, 이하 넷기어)가 뮤럴 캔버스를 가지고 넷기어 SNS에서...</td>\n",
       "      <td>{'question': \"넷기어가 모집하는 '뮤럴 공식 도슨트'의 주요 역할은 무엇...</td>\n",
       "      <td>NaN</td>\n",
       "    </tr>\n",
       "    <tr>\n",
       "      <th>2028</th>\n",
       "      <td>generation-for-nlp-2895</td>\n",
       "      <td>서울 성동구 옥수동과 금호동은 맞붙어 있는 동네지만 아파트값은 같은 면적에서 1억원...</td>\n",
       "      <td>{'question': '옥수동과 금호동의 아파트값 차이가 발생한 주된 이유는 무엇...</td>\n",
       "      <td>NaN</td>\n",
       "    </tr>\n",
       "    <tr>\n",
       "      <th>2029</th>\n",
       "      <td>generation-for-nlp-2896</td>\n",
       "      <td>방하남 고용노동부 장관(사진)이 취임 후 첫 외부 행사로 5년 만에 일자리를 3.5...</td>\n",
       "      <td>{'question': '방하남 고용노동부 장관이 방문한 기업의 이름은 무엇인가?'...</td>\n",
       "      <td>NaN</td>\n",
       "    </tr>\n",
       "    <tr>\n",
       "      <th>2030</th>\n",
       "      <td>generation-for-nlp-2899</td>\n",
       "      <td>진실한 사랑은 기쁨과 평화를 낳고 고통을 줄여준다. 그것은 자애, 연민, 기쁨, 평...</td>\n",
       "      <td>{'question': '틱낫한 스님이 강조하는 진실한 사랑의 요소가 아닌 것은 무...</td>\n",
       "      <td>NaN</td>\n",
       "    </tr>\n",
       "  </tbody>\n",
       "</table>\n",
       "<p>2031 rows × 4 columns</p>\n",
       "</div>"
      ],
      "text/plain": [
       "                           id  \\\n",
       "0      generation-for-nlp-425   \n",
       "1      generation-for-nlp-426   \n",
       "2      generation-for-nlp-427   \n",
       "3      generation-for-nlp-428   \n",
       "4      generation-for-nlp-429   \n",
       "...                       ...   \n",
       "2026  generation-for-nlp-2893   \n",
       "2027  generation-for-nlp-2894   \n",
       "2028  generation-for-nlp-2895   \n",
       "2029  generation-for-nlp-2896   \n",
       "2030  generation-for-nlp-2899   \n",
       "\n",
       "                                              paragraph  \\\n",
       "0     상소하여 아뢰기를 , “신이 좌참 찬 송준길이 올린 차자를 보았는데 , 상복(喪服)...   \n",
       "1     (가)은/는 의병계열과 애국계몽 운동 계열의 비밀결사가 모여 결성된 조직으로, 총사...   \n",
       "2     나는 삼한(三韓) 산천의 음덕을 입어 대업을 이루었다.(가)는/은 수덕(水德)이 순...   \n",
       "3     이 날 소정방이 부총관 김인문 등과 함께 기 벌포에 도착하여 백제 군사와 마주쳤다....   \n",
       "4     선비들 수만 명이 대궐 앞에 모여 만 동묘와 서원을 다시 설립할 것을 청하니, (가...   \n",
       "...                                                 ...   \n",
       "2026  “헐값에 팔리는 냉동 오렌지주스만 잔뜩 사가고, 쿠폰을 오려 모았으며, 구멍 난 스...   \n",
       "2027  넷기어코리아(지사장 김진겸, 이하 넷기어)가 뮤럴 캔버스를 가지고 넷기어 SNS에서...   \n",
       "2028  서울 성동구 옥수동과 금호동은 맞붙어 있는 동네지만 아파트값은 같은 면적에서 1억원...   \n",
       "2029  방하남 고용노동부 장관(사진)이 취임 후 첫 외부 행사로 5년 만에 일자리를 3.5...   \n",
       "2030  진실한 사랑은 기쁨과 평화를 낳고 고통을 줄여준다. 그것은 자애, 연민, 기쁨, 평...   \n",
       "\n",
       "                                               problems  question_plus  \n",
       "0     {'question': '상소한 인물이 속한 붕당에 대한 설명으로 옳은 것만을 모두...            NaN  \n",
       "1     {'question': '(가)에 대한 설명으로 옳지 않은 것은?', 'choice...            NaN  \n",
       "2     {'question': '(가) 지역에 대한 설명으로 옳은 것은?', 'choice...            NaN  \n",
       "3     {'question': '밑줄 친 ‘그’에 대한 설명으로 옳은 것은?', 'choi...            NaN  \n",
       "4     {'question': '(가) 인물이 추진한 정책으로 옳지 않은 것은?', 'ch...            NaN  \n",
       "...                                                 ...            ...  \n",
       "2026  {'question': '잭 맥도널드가 남긴 유산의 총액은 얼마인가?', 'choi...            NaN  \n",
       "2027  {'question': \"넷기어가 모집하는 '뮤럴 공식 도슨트'의 주요 역할은 무엇...            NaN  \n",
       "2028  {'question': '옥수동과 금호동의 아파트값 차이가 발생한 주된 이유는 무엇...            NaN  \n",
       "2029  {'question': '방하남 고용노동부 장관이 방문한 기업의 이름은 무엇인가?'...            NaN  \n",
       "2030  {'question': '틱낫한 스님이 강조하는 진실한 사랑의 요소가 아닌 것은 무...            NaN  \n",
       "\n",
       "[2031 rows x 4 columns]"
      ]
     },
     "execution_count": 3,
     "metadata": {},
     "output_type": "execute_result"
    }
   ],
   "source": [
    "data"
   ]
  },
  {
   "cell_type": "code",
   "execution_count": 4,
   "metadata": {},
   "outputs": [],
   "source": [
    "paragraph = data[\"paragraph\"]\n",
    "problems = data[\"problems\"]\n",
    "problems = problems.apply(lambda x:eval(x))"
   ]
  },
  {
   "cell_type": "code",
   "execution_count": 5,
   "metadata": {},
   "outputs": [
    {
     "name": "stdout",
     "output_type": "stream",
     "text": [
      "dict_keys(['question', 'choices', 'answer'])\n"
     ]
    }
   ],
   "source": [
    "# 질문 형태 확인\n",
    "print(problems[0].keys())\n",
    "for p in problems:\n",
    "    if len(p.keys()) != 3:\n",
    "        print(p)"
   ]
  },
  {
   "cell_type": "code",
   "execution_count": 6,
   "metadata": {},
   "outputs": [
    {
     "name": "stdout",
     "output_type": "stream",
     "text": [
      "Counter({5: 1239, 4: 792})\n",
      "선지가 4개인 데이터의 비율 : 38.996\n"
     ]
    }
   ],
   "source": [
    "choices_count = []\n",
    "for p in problems:\n",
    "    choices_count.append(len(p[\"choices\"]))\n",
    "counter = Counter(choices_count)\n",
    "print(counter)\n",
    "print(\"선지가 4개인 데이터의 비율 : {:.3f}\".format((counter[4]/len(choices_count))*100))"
   ]
  },
  {
   "cell_type": "code",
   "execution_count": 7,
   "metadata": {},
   "outputs": [
    {
     "data": {
      "text/plain": [
       "2031"
      ]
     },
     "execution_count": 7,
     "metadata": {},
     "output_type": "execute_result"
    }
   ],
   "source": [
    "question_plus = data[\"question_plus\"]\n",
    "question_plus.isna().sum()"
   ]
  },
  {
   "cell_type": "markdown",
   "metadata": {},
   "source": [
    "# 빈도수 높은 단어 확인"
   ]
  },
  {
   "cell_type": "code",
   "execution_count": 8,
   "metadata": {},
   "outputs": [],
   "source": [
    "import re\n",
    "from collections import defaultdict\n",
    "\n",
    "non_chars = {}\n",
    "\n",
    "def count_non_korean_english_chars(text):\n",
    "    # 한글과 영어를 제외한 문자만 매칭하는 정규 표현식\n",
    "    non_korean_english_chars = re.findall(r\"[^가-힣a-zA-Z]\", text)\n",
    "    \n",
    "    # 각 문자에 대해 개수를 증가\n",
    "    for char in non_korean_english_chars:\n",
    "        if char not in non_chars:\n",
    "            non_chars[char] = 1\n",
    "        else:\n",
    "            non_chars[char] += 1\n",
    "\n",
    "for p in paragraph:\n",
    "    count_non_korean_english_chars(p)"
   ]
  },
  {
   "cell_type": "code",
   "execution_count": 9,
   "metadata": {},
   "outputs": [
    {
     "name": "stdout",
     "output_type": "stream",
     "text": [
      "[ , 330215]  [., 25081]  [0, 11310]  [,, 10164]  [1, 9935] \n",
      "[2, 7423]  [), 5015]  [(, 5011]  [3, 4467]  [5, 4010] \n",
      "[4, 3513]  [“, 3505]  [”, 3440]  [’, 3247]  [‘, 3228] \n",
      "[9, 2839]  [6, 2795]  [8, 2767]  [7, 2651]  [%, 2592] \n",
      "[·, 1730]  [~, 724]  [\", 551]  [㎡, 527]  [-, 436] \n",
      "[…, 395]  [○, 316]  [△, 302]  [\n",
      ", 261]  [?, 241] \n",
      "[&, 215]  [▲, 192]  [/, 190]  [', 187]  [!, 128] \n",
      "[—, 127]  [[, 126]  [:, 125]  [], 124]  [=, 106] \n",
      "[>, 104]  [<, 96]  [ , 90]  [《, 90]  [》, 90] \n",
      "[㎞, 48]  [－, 46]  [ｍ, 38]  [*, 36]  [+, 34] \n",
      "[→, 33]  [@, 29]  [‧, 28]  [㈜, 27]  [◇, 27] \n",
      "[∙, 26]  [#, 26]  [–, 23]  [㎝, 23]  [​, 23] \n",
      "[▷, 19]  [ㆍ, 16]  [『, 16]  [』, 16]  [․, 15] \n",
      "[×, 14]  [中, 13]  [_, 13]  [「, 12]  [」, 12] \n",
      "[§, 9]  [㎢, 9]  [安, 9]  [▶, 9]  [三, 8] \n",
      "[;, 8]  [㎏, 8]  [平, 8]  [㎎, 8]  [◆, 8] \n",
      "[■, 7]  [低, 7]  [非, 7]  [㉠, 6]  [對, 6] \n",
      "[習, 6]  [近, 6]  [㉡, 5]  [前, 5]  [〮, 5] \n",
      "[李, 5]  [㎥, 5]  [反, 5]  [㎾, 5]  [行, 4] \n",
      "[大, 4]  [詩, 4]  [長, 4]  [强, 4]  [倍, 4] \n"
     ]
    }
   ],
   "source": [
    "from pprint import pprint\n",
    "\n",
    "sorted_non_chars = sorted(non_chars.items(),key=lambda x:-x[1])\n",
    "for i, snon in enumerate(sorted_non_chars[:100]):\n",
    "    ch, ch_cnt = snon[0], snon[1]\n",
    "    if (i+1) % 5 == 0:\n",
    "        print(f\"[{ch}, {ch_cnt}] \")\n",
    "    else:\n",
    "        print(f\"[{ch}, {ch_cnt}] \",end=\" \")"
   ]
  },
  {
   "cell_type": "markdown",
   "metadata": {},
   "source": [
    "# 문장 길이 확인"
   ]
  },
  {
   "cell_type": "code",
   "execution_count": 10,
   "metadata": {},
   "outputs": [
    {
     "name": "stdout",
     "output_type": "stream",
     "text": [
      "문장 길이 평균 : 735.324\n"
     ]
    }
   ],
   "source": [
    "# 글자 수 기반 문장길이 확인\n",
    "lens_prg = np.array([len(prg) for prg in paragraph])\n",
    "print(\"문장 길이 평균 : {:.3f}\".format(lens_prg.mean()))"
   ]
  },
  {
   "cell_type": "code",
   "execution_count": 11,
   "metadata": {},
   "outputs": [
    {
     "data": {
      "image/png": "[encoded data removed]",
      "text/plain": [
       "<Figure size 2000x500 with 3 Axes>"
      ]
     },
     "metadata": {},
     "output_type": "display_data"
    }
   ],
   "source": [
    "# 히스토그램 데이터 생성\n",
    "counts, bins = np.histogram(lens_prg, bins=50)\n",
    "\n",
    "# 막대의 색상 적용\n",
    "colors = plt.cm.viridis(counts / counts.max())  # Viridis 색상 맵 사용\n",
    "\n",
    "# 플롯\n",
    "fig, ax = plt.subplots(1, 2, figsize=(20, 5))\n",
    "for i in range(len(bins) - 1):\n",
    "    ax[0].bar(bins[i], counts[i], width=bins[i + 1] - bins[i], color=colors[i], edgecolor=\"black\")\n",
    "\n",
    "ax[0].set_title(\"Distribution of Paragraph Text Length\")\n",
    "ax[0].set_ylabel(\"Counts\")\n",
    "ax[0].set_xlabel(\"Length\")\n",
    "\n",
    "# 컬러바 추가\n",
    "sm = plt.cm.ScalarMappable(cmap=\"viridis\", norm=plt.Normalize(vmin=counts.min(), vmax=counts.max()))\n",
    "sm.set_array([])\n",
    "cbar = plt.colorbar(sm, ax=ax)\n",
    "cbar.set_label(\"Counts\")\n",
    "\n",
    "# 박스 플롯 생성\n",
    "\n",
    "Q1 = np.percentile(lens_prg, 25)\n",
    "Q3 = np.percentile(lens_prg, 75)\n",
    "IQR = Q3 - Q1\n",
    "upper_bound = Q3 + 1.5 * IQR\n",
    "\n",
    "ax[1].boxplot(lens_prg, vert=False)\n",
    "ax[1].set_xlabel(\"Length\")\n",
    "\n",
    "ax[1].text(Q1, 1.1, f\"Q1: {Q1:.2f}\", color=\"blue\", ha=\"center\")\n",
    "ax[1].text(Q3, 1.1, f\"Q3: {Q3:.2f}\", color=\"blue\", ha=\"center\")\n",
    "ax[1].text(upper_bound, 1.1, f\"Upper Bound: {upper_bound:.2f}\", color=\"red\", ha=\"center\")\n",
    "ax[1].text((Q1 + Q3) / 2, 1.15, f\"IQR: {IQR:.2f}\", color=\"blue\", ha=\"center\", fontsize=10)\n",
    "\n",
    "\n",
    "outliers = lens_prg[lens_prg > upper_bound]\n",
    "max_outlier = outliers.max() if len(outliers) > 0 else None  # Check if there are any outliers\n",
    "\n",
    "if max_outlier is not None:\n",
    "    ax[1].text(max_outlier, 1.2, f\"Max Outlier: {max_outlier}\", color=\"purple\", ha=\"center\", fontsize=10)\n",
    "\n",
    "\n",
    "\n",
    "plt.show()"
   ]
  },
  {
   "cell_type": "markdown",
   "metadata": {},
   "source": [
    "해당 그림을 보았을 때, 길이가 최대 2017자인 경우도 있고, 최소의 경우 15자인 경우도 존재한다.  \n",
    "예측으로는 2017자에는 국어 지문이 들어가는 것으로 이해됨"
   ]
  },
  {
   "cell_type": "markdown",
   "metadata": {},
   "source": [
    "# Tokenizer 확인 및 Token 길이 확인"
   ]
  },
  {
   "cell_type": "code",
   "execution_count": 12,
   "metadata": {},
   "outputs": [],
   "source": [
    "tokenizer = AutoTokenizer.from_pretrained(\"beomi/gemma-ko-2b\")"
   ]
  },
  {
   "cell_type": "code",
   "execution_count": 13,
   "metadata": {},
   "outputs": [],
   "source": [
    "# chat Template\n",
    "tokenizer.chat_template = \"\"\"\n",
    "{% if messages[0]['role'] == 'system' %}\n",
    "{% set system_message = messages[0]['content'] %}\n",
    "{% endif %}\n",
    "{% if system_message is defined %}\n",
    "{{ system_message }}\n",
    "{% endif %}\n",
    "{% for message in messages %}\n",
    "{% set content = message['content'] %}\n",
    "{% if message['role'] == 'user' %}\n",
    "{{ '<start_of_turn>user\\n' + content + '<end_of_turn>\\n<start_of_turn>model\\n' }}\n",
    "{% elif message['role'] == 'assistant' %}\n",
    "{{ content + '<end_of_turn>\\n' }}\n",
    "{% endif %}\n",
    "{% endfor %}\"\n",
    "\"\"\"\n"
   ]
  },
  {
   "cell_type": "code",
   "execution_count": 14,
   "metadata": {},
   "outputs": [],
   "source": [
    "from ast import literal_eval\n",
    "# Load the train dataset\n",
    "# TODO Train Data 경로 입력\n",
    "dataset = pd.read_csv(os.path.join(data_path,\"train.csv\") )\n",
    "\n",
    "# Flatten the JSON dataset\n",
    "records = []\n",
    "for _, row in dataset.iterrows():\n",
    "    problems = literal_eval(row['problems'])\n",
    "    record = {\n",
    "        'id': row['id'],\n",
    "        'paragraph': row['paragraph'],\n",
    "        'question': problems['question'],\n",
    "        'choices': problems['choices'],\n",
    "        'answer': problems.get('answer', None),\n",
    "        \"question_plus\": problems.get('question_plus', None),\n",
    "    }\n",
    "    # Include 'question_plus' if it exists\n",
    "    if 'question_plus' in problems:\n",
    "        record['question_plus'] = problems['question_plus']\n",
    "    records.append(record)\n",
    "        \n",
    "# Convert to DataFrame\n",
    "df = pd.DataFrame(records)\n",
    "dataset = Dataset.from_pandas(df)"
   ]
  },
  {
   "cell_type": "code",
   "execution_count": 15,
   "metadata": {},
   "outputs": [],
   "source": [
    "PROMPT_NO_QUESTION_PLUS = \"\"\"지문:\n",
    "{paragraph}\n",
    "\n",
    "질문:\n",
    "{question}\n",
    "\n",
    "선택지:\n",
    "{choices}\n",
    "\n",
    "1, 2, 3, 4, 5 중에 하나를 정답으로 고르세요.\n",
    "정답:\"\"\"\n",
    "\n",
    "PROMPT_QUESTION_PLUS = \"\"\"지문:\n",
    "{paragraph}\n",
    "\n",
    "질문:\n",
    "{question}\n",
    "\n",
    "<보기>:\n",
    "{question_plus}\n",
    "\n",
    "선택지:\n",
    "{choices}\n",
    "\n",
    "1, 2, 3, 4, 5 중에 하나를 정답으로 고르세요.\n",
    "정답:\"\"\""
   ]
  },
  {
   "cell_type": "code",
   "execution_count": 16,
   "metadata": {},
   "outputs": [],
   "source": [
    "processed_dataset = []\n",
    "for i in range(len(dataset)):\n",
    "    choices_string = \"\\n\".join([f\"{idx + 1} - {choice}\" for idx, choice in enumerate(dataset[i][\"choices\"])])\n",
    "\n",
    "    # <보기>가 있을 때\n",
    "    if dataset[i][\"question_plus\"]:\n",
    "        user_message = PROMPT_QUESTION_PLUS.format(\n",
    "            paragraph=dataset[i][\"paragraph\"],\n",
    "            question=dataset[i][\"question\"],\n",
    "            question_plus=dataset[i][\"question_plus\"],\n",
    "            choices=choices_string,\n",
    "        )\n",
    "    # <보기>가 없을 때\n",
    "    else:\n",
    "        user_message = PROMPT_NO_QUESTION_PLUS.format(\n",
    "            paragraph=dataset[i][\"paragraph\"],\n",
    "            question=dataset[i][\"question\"],\n",
    "            choices=choices_string,\n",
    "        )\n",
    "\n",
    "    # chat message 형식으로 변환\n",
    "    processed_dataset.append(\n",
    "        {\n",
    "            \"id\": dataset[i][\"id\"],\n",
    "            \"messages\": [\n",
    "                {\"role\": \"system\", \"content\": \"지문을 읽고 질문의 답을 구하세요.\"},\n",
    "                {\"role\": \"user\", \"content\": user_message},\n",
    "                {\"role\": \"assistant\", \"content\": f\"{dataset[i]['answer']}\"}\n",
    "            ],\n",
    "            \"label\": dataset[i][\"answer\"],\n",
    "        }\n",
    "    )\n",
    "processed_dataset = Dataset.from_pandas(pd.DataFrame(processed_dataset))"
   ]
  },
  {
   "cell_type": "code",
   "execution_count": 17,
   "metadata": {},
   "outputs": [
    {
     "data": {
      "application/vnd.jupyter.widget-view+json": {
       "model_id": "9fad3219ebc74c5fae41a88e770263ca",
       "version_major": 2,
       "version_minor": 0
      },
      "text/plain": [
       "Tokenizing (num_proc=4):   0%|          | 0/2031 [00:00<?, ? examples/s]"
      ]
     },
     "metadata": {},
     "output_type": "display_data"
    }
   ],
   "source": [
    "def formatting_prompts_func(example):\n",
    "    output_texts = []\n",
    "    for i in range(len(example[\"messages\"])):\n",
    "        output_texts.append(\n",
    "            tokenizer.apply_chat_template(\n",
    "                example[\"messages\"][i],\n",
    "                tokenize=False,\n",
    "            )\n",
    "        )\n",
    "    return output_texts\n",
    "\n",
    "def tokenize(element):\n",
    "    outputs = tokenizer(\n",
    "        formatting_prompts_func(element),\n",
    "        truncation=False,\n",
    "        padding=False,\n",
    "        return_overflowing_tokens=False,\n",
    "        return_length=False,\n",
    "    )\n",
    "    return {\n",
    "        \"input_ids\": outputs[\"input_ids\"],\n",
    "        \"attention_mask\": outputs[\"attention_mask\"],\n",
    "    }\n",
    "\n",
    "# 데이터 토큰화\n",
    "tokenized_dataset = processed_dataset.map(\n",
    "    tokenize,\n",
    "    remove_columns=list(processed_dataset.features),\n",
    "    batched=True,\n",
    "    num_proc=4,\n",
    "    load_from_cache_file=True,\n",
    "    desc=\"Tokenizing\",\n",
    ")"
   ]
  },
  {
   "cell_type": "code",
   "execution_count": 18,
   "metadata": {},
   "outputs": [
    {
     "name": "stdout",
     "output_type": "stream",
     "text": [
      "{'bos_token': '<bos>', 'eos_token': '<eos>', 'unk_token': '<unk>', 'pad_token': '<pad>'}\n",
      "bos_token (<bos>): 2\n",
      "eos_token (<eos>): 1\n",
      "unk_token (<unk>): 3\n",
      "pad_token (<pad>): 0\n"
     ]
    }
   ],
   "source": [
    "special_tokens = tokenizer.special_tokens_map\n",
    "print(tokenizer.special_tokens_map)\n",
    "for token_name, token in special_tokens.items():\n",
    "    token_id = tokenizer.convert_tokens_to_ids(token)\n",
    "    print(f\"{token_name} ({token}): {token_id}\")"
   ]
  },
  {
   "cell_type": "markdown",
   "metadata": {},
   "source": [
    "```python\n",
    "messages = [\n",
    "    {\"role\": \"system\", \"content\": \"System initialized.\"},\n",
    "    {\"role\": \"user\", \"content\": \"Hello, how are you?\"},\n",
    "    {\"role\": \"assistant\", \"content\": \"I'm fine, thank you! How can I assist you today?\"},\n",
    "]\n",
    "```\n",
    "가 다음과 같이 변환됨\n",
    "\n",
    "```php\n",
    "System initialized.\n",
    "<start_of_turn>user\n",
    "Hello, how are you?<end_of_turn>\n",
    "<start_of_turn>model\n",
    "I'm fine, thank you! How can I assist you today?<end_of_turn>\n",
    "```"
   ]
  },
  {
   "cell_type": "markdown",
   "metadata": {},
   "source": [
    "Token 기반으로 분포도를 확인하자"
   ]
  },
  {
   "cell_type": "code",
   "execution_count": 19,
   "metadata": {},
   "outputs": [
    {
     "data": {
      "text/plain": [
       "2031"
      ]
     },
     "execution_count": 19,
     "metadata": {},
     "output_type": "execute_result"
    }
   ],
   "source": [
    "len(tokenized_dataset[\"input_ids\"]) # 총 2031개 데이터의 토큰들"
   ]
  },
  {
   "cell_type": "code",
   "execution_count": 20,
   "metadata": {},
   "outputs": [],
   "source": [
    "token_lens = []\n",
    "for tokens in tokenized_dataset[\"input_ids\"]:\n",
    "    token_lens.append(len(tokens))"
   ]
  },
  {
   "cell_type": "code",
   "execution_count": 21,
   "metadata": {},
   "outputs": [
    {
     "data": {
      "text/plain": [
       "372"
      ]
     },
     "execution_count": 21,
     "metadata": {},
     "output_type": "execute_result"
    }
   ],
   "source": [
    "# 최대 토큰 갯수 확인\n",
    "token_lens = np.array(token_lens)\n",
    "len(token_lens[token_lens>1024])"
   ]
  },
  {
   "cell_type": "code",
   "execution_count": 22,
   "metadata": {},
   "outputs": [
    {
     "data": {
      "image/png": "[encoded data removed]",
      "text/plain": [
       "<Figure size 2000x500 with 2 Axes>"
      ]
     },
     "metadata": {},
     "output_type": "display_data"
    }
   ],
   "source": [
    "# 히스토그램 데이터 생성\n",
    "counts, bins = np.histogram(token_lens, bins=50)\n",
    "\n",
    "# 막대의 색상 적용\n",
    "colors = plt.cm.viridis(counts / counts.max())  # Viridis 색상 맵 사용\n",
    "\n",
    "# 플롯\n",
    "fig, ax = plt.subplots(1, 1, figsize=(20, 5))\n",
    "for i in range(len(bins) - 1):\n",
    "    ax.bar(bins[i], counts[i], width=bins[i + 1] - bins[i], color=colors[i], edgecolor=\"black\")\n",
    "\n",
    "ax.set_title(\"Distribution of Paragraph Text Length\")\n",
    "ax.set_ylabel(\"Counts\")\n",
    "ax.set_xlabel(\"Length\")\n",
    "\n",
    "# 컬러바 추가\n",
    "sm = plt.cm.ScalarMappable(cmap=\"viridis\", norm=plt.Normalize(vmin=counts.min(), vmax=counts.max()))\n",
    "sm.set_array([])\n",
    "cbar = plt.colorbar(sm, ax=ax)\n",
    "cbar.set_label(\"Counts\")\n",
    "\n",
    "length_threshold = 1024\n",
    "\n",
    "for i in range(len(bins) - 1):\n",
    "    if bins[i] >= length_threshold:\n",
    "        ax.bar(bins[i], counts[i], width=bins[i + 1] - bins[i], color=\"red\", edgecolor=\"black\")\n",
    "    else:\n",
    "        ax.bar(bins[i], counts[i], width=bins[i + 1] - bins[i], color=colors[i], edgecolor=\"black\")"
   ]
  },
  {
   "cell_type": "code",
   "execution_count": 23,
   "metadata": {},
   "outputs": [
    {
     "name": "stdout",
     "output_type": "stream",
     "text": [
      "x축 length가 1024 이상인 데이터의 총 개수: 367\n"
     ]
    }
   ],
   "source": [
    "# 1024 이상인 구간과 해당 데이터 찾기\n",
    "indices = bins[:-1] >= length_threshold  # x축 길이가 1024 이상인 구간 찾기\n",
    "exceeding_bins = bins[:-1][indices]      # 해당하는 x축 시작점 구간\n",
    "exceeding_counts = counts[indices]       # 해당하는 구간의 데이터 개수\n",
    "\n",
    "# 결과 출력\n",
    "total_exceeding_data = exceeding_counts.sum()\n",
    "print(f\"x축 length가 {length_threshold} 이상인 데이터의 총 개수: {total_exceeding_data}\")"
   ]
  },
  {
   "cell_type": "markdown",
   "metadata": {},
   "source": [
    "총 데이터가 2031개 중 1024 token이 넘어가는 데이터 367개를 학습하지 못했었다."
   ]
  },
  {
   "cell_type": "markdown",
   "metadata": {},
   "source": [
    "그렇다면 `[UNK]` TOKEN은 몇개인가  \n",
    "전체 토큰비율로 따지자"
   ]
  },
  {
   "cell_type": "code",
   "execution_count": 30,
   "metadata": {},
   "outputs": [
    {
     "name": "stdout",
     "output_type": "stream",
     "text": [
      "UNK Token is 3\n"
     ]
    }
   ],
   "source": [
    "print(\"UNK Token is\",tokenizer.unk_token_id)"
   ]
  },
  {
   "cell_type": "code",
   "execution_count": 31,
   "metadata": {},
   "outputs": [
    {
     "name": "stdout",
     "output_type": "stream",
     "text": [
      "UNK Tokens : 0\n"
     ]
    }
   ],
   "source": [
    "len_unk_tokens = 0\n",
    "for tokens in tokenized_dataset[\"input_ids\"]:\n",
    "    unk_Counter = Counter(tokens)[3]\n",
    "    len_unk_tokens += unk_Counter\n",
    "print(\"UNK Tokens :\",len_unk_tokens)"
   ]
  },
  {
   "cell_type": "markdown",
   "metadata": {},
   "source": [
    "놀랍게도 UNK Token가 없다...!"
   ]
  },
  {
   "cell_type": "code",
   "execution_count": null,
   "metadata": {},
   "outputs": [],
   "source": []
  }
 ],
 "metadata": {
  "kernelspec": {
   "display_name": "base",
   "language": "python",
   "name": "python3"
  },
  "language_info": {
   "codemirror_mode": {
    "name": "ipython",
    "version": 3
   },
   "file_extension": ".py",
   "mimetype": "text/x-python",
   "name": "python",
   "nbconvert_exporter": "python",
   "pygments_lexer": "ipython3",
   "version": "3.10.13"
  }
 },
 "nbformat": 4,
 "nbformat_minor": 2
}
